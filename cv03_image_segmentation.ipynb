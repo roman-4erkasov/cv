{
  "cells": [
    {
      "cell_type": "markdown",
      "metadata": {
        "id": "view-in-github",
        "colab_type": "text"
      },
      "source": [
        "<a href=\"https://colab.research.google.com/github/roman-4erkasov/image_segmentation/blob/main/cv03_image_segmentation.ipynb\" target=\"_parent\"><img src=\"https://colab.research.google.com/assets/colab-badge.svg\" alt=\"Open In Colab\"/></a>"
      ]
    },
    {
      "cell_type": "code",
      "execution_count": null,
      "id": "3a0d1ce2",
      "metadata": {
        "cellId": "nlw0j9pgszbusjcaz6hf",
        "id": "3a0d1ce2",
        "outputId": "46d4363a-a29b-4234-de15-0952de54462f"
      },
      "outputs": [
        {
          "name": "stdout",
          "output_type": "stream",
          "text": [
            "Defaulting to user installation because normal site-packages is not writeable\n",
            "Requirement already satisfied: seaborn in /home/jupyter/.local/lib/python3.7/site-packages (0.11.2)\n",
            "Requirement already satisfied: scipy>=1.0 in /usr/local/lib/python3.7/dist-packages (from seaborn) (1.4.1)\n",
            "Requirement already satisfied: matplotlib>=2.2 in /kernel/lib/python3.7/site-packages (from seaborn) (3.3.3)\n",
            "Requirement already satisfied: pandas>=0.23 in /usr/local/lib/python3.7/dist-packages (from seaborn) (0.25.3)\n",
            "Requirement already satisfied: numpy>=1.15 in /kernel/lib/python3.7/site-packages (from seaborn) (1.19.4)\n",
            "Requirement already satisfied: python-dateutil>=2.1 in /kernel/lib/python3.7/site-packages (from matplotlib>=2.2->seaborn) (2.8.2)\n",
            "Requirement already satisfied: cycler>=0.10 in /kernel/lib/python3.7/site-packages (from matplotlib>=2.2->seaborn) (0.11.0)\n",
            "Requirement already satisfied: pyparsing!=2.0.4,!=2.1.2,!=2.1.6,>=2.0.3 in /kernel/lib/python3.7/site-packages (from matplotlib>=2.2->seaborn) (2.4.7)\n",
            "Requirement already satisfied: pillow>=6.2.0 in /kernel/lib/python3.7/site-packages (from matplotlib>=2.2->seaborn) (9.0.0)\n",
            "Requirement already satisfied: kiwisolver>=1.0.1 in /kernel/lib/python3.7/site-packages (from matplotlib>=2.2->seaborn) (1.3.2)\n",
            "Requirement already satisfied: pytz>=2017.2 in /usr/local/lib/python3.7/dist-packages (from pandas>=0.23->seaborn) (2021.1)\n",
            "Requirement already satisfied: six>=1.5 in /kernel/lib/python3.7/site-packages (from python-dateutil>=2.1->matplotlib>=2.2->seaborn) (1.16.0)\n",
            "\u001b[33mWARNING: You are using pip version 21.3.1; however, version 22.0.3 is available.\n",
            "You should consider upgrading via the '/usr/local/bin/python3 -m pip install --upgrade pip' command.\u001b[0m\n",
            "device=cpu\n"
          ]
        }
      ],
      "source": [
        "%pip install seaborn\n",
        "\n",
        "import torch\n",
        "import numpy as np\n",
        "import cv2\n",
        "import torchvision\n",
        "import PIL as pil\n",
        "import seaborn as sns\n",
        "import json\n",
        "\n",
        "\n",
        "def show_image(image, figsize=(16, 9), reverse=True):\n",
        "    plt.figure(figsize=figsize)\n",
        "    if reverse:\n",
        "        plt.imshow(image[...,::-1])\n",
        "    else:\n",
        "        plt.imshow(image)\n",
        "    plt.axis('off')\n",
        "    plt.show()\n",
        "\n",
        "def get_device():\n",
        "    device = torch.device('cuda') if torch.cuda.is_available() else torch.device('cpu')\n",
        "    print(f\"device={device}\")\n",
        "    return device\n",
        "\n",
        "_ = get_device()\n",
        "\n",
        "DEBUG = False"
      ]
    },
    {
      "cell_type": "code",
      "execution_count": null,
      "id": "30e11f06",
      "metadata": {
        "cellId": "umwl3svxd7p9k6xjfapkd",
        "id": "30e11f06"
      },
      "outputs": [],
      "source": [
        "to_tensor = torchvision.transforms.ToTensor()\n",
        "\n",
        "def visualize_prediction(\n",
        "    file, model, coco_id_to_name, device='cuda', verbose=True, thresh=0.0, n_colors=None\n",
        "):\n",
        "    img = pil.Image.open(file)\n",
        "    img_tensor = to_tensor(img).unsqueeze(0)\n",
        "    model.to(device)\n",
        "    model.eval()\n",
        "    with torch.no_grad():\n",
        "        predictions = model(img_tensor.to(device)) # list of size 1\n",
        "    prediction = predictions[0]\n",
        "    \n",
        "    if n_colors is None:\n",
        "        n_colors = model.roi_heads.box_predictor.cls_score.out_features\n",
        "    \n",
        "    palette = sns.color_palette(None, n_colors)\n",
        "    \n",
        "    # visualize\n",
        "    img = cv2.imread(file, cv2.COLOR_BGR2RGB)\n",
        "    for i in range(len(prediction['boxes'])):\n",
        "        x1, x2, x3, x4 = map(int, prediction['boxes'][i].tolist())\n",
        "        label = int(prediction['labels'][i].cpu())\n",
        "        score = float(prediction['scores'][i].cpu())\n",
        "        name = coco_id_to_name[label]\n",
        "        color = palette[label]\n",
        "        if verbose:\n",
        "            if score > thresh:\n",
        "                print ('Class: {}, Confidence: {}'.format(name, score))\n",
        "        if score > thresh:\n",
        "            image = cv2.rectangle(img, (x1, x2), (x3, x4), np.array(color) * 255, 2)\n",
        "            cv2.putText(image, name, (x1, x2-10), cv2.FONT_HERSHEY_SIMPLEX, 0.7, np.array(color) * 255, 2)\n",
        "    show_image(image)\n",
        "    return prediction\n"
      ]
    },
    {
      "cell_type": "code",
      "execution_count": null,
      "id": "8994c6fa",
      "metadata": {
        "cellId": "vyxkqudoxiyxi2or60qnk",
        "id": "8994c6fa",
        "outputId": "0108b37c-4211-4a31-be6d-4b3dd56b5f21",
        "colab": {
          "referenced_widgets": [
            "8070f1d0fef0411597163a77e3f3eb0e"
          ]
        }
      },
      "outputs": [
        {
          "name": "stderr",
          "output_type": "stream",
          "text": [
            "Downloading: \"https://download.pytorch.org/models/fasterrcnn_resnet50_fpn_coco-258fb6c6.pth\" to /tmp/xdg_cache/torch/hub/checkpoints/fasterrcnn_resnet50_fpn_coco-258fb6c6.pth\n"
          ]
        },
        {
          "data": {
            "application/vnd.jupyter.widget-view+json": {
              "model_id": "8070f1d0fef0411597163a77e3f3eb0e",
              "version_major": 2,
              "version_minor": 0
            },
            "text/plain": [
              "HBox(children=(HTML(value=''), FloatProgress(value=0.0, max=167502836.0), HTML(value='')))"
            ]
          },
          "metadata": {},
          "output_type": "display_data"
        },
        {
          "name": "stdout",
          "output_type": "stream",
          "text": [
            "\n"
          ]
        }
      ],
      "source": [
        "#!g2.1\n",
        "\n",
        "model = torchvision.models.detection.fasterrcnn_resnet50_fpn(\n",
        "    pretrained=True, \n",
        "#     progress=True,\n",
        "#     num_classes=91, \n",
        "#     pretrained_backbone=True,\n",
        "#     map_location=torch.device('cpu')\n",
        ")\n"
      ]
    },
    {
      "cell_type": "code",
      "execution_count": null,
      "id": "0caf29fe",
      "metadata": {
        "cellId": "dsn5tapmk5kixqbt5do39",
        "id": "0caf29fe",
        "outputId": "ab4b479d-41fc-4947-c485-9a19790447bd"
      },
      "outputs": [
        {
          "name": "stdout",
          "output_type": "stream",
          "text": [
            "device=cuda\n"
          ]
        },
        {
          "name": "stderr",
          "output_type": "stream",
          "text": [
            "/usr/local/lib/python3.7/dist-packages/torchvision/ops/boxes.py:101: UserWarning: This overload of nonzero is deprecated:\n",
            "\tnonzero()\n",
            "Consider using one of the following signatures instead:\n",
            "\tnonzero(*, bool as_tuple) (Triggered internally at  /pytorch/torch/csrc/utils/python_arg_parser.cpp:766.)\n",
            "  keep = keep.nonzero().squeeze(1)\n"
          ]
        },
        {
          "data": {
            "text/plain": [
              "dict_keys(['boxes', 'labels', 'scores'])"
            ]
          },
          "metadata": {},
          "output_type": "display_data"
        }
      ],
      "source": [
        "#!g2.1\n",
        "device = get_device()\n",
        "filepath = \"/home/jupyter/mnt/s3/cv03-fasterrcnn-detection/detection_examples/mrs_maisel.jpg\"\n",
        "img = pil.Image.open(filepath)\n",
        "img_tensor = to_tensor(img).unsqueeze(0)\n",
        "# model.to(device)\n",
        "model.eval()\n",
        "with torch.no_grad():\n",
        "    pred = model(img_tensor)[0]    \n",
        "pred.keys()"
      ]
    },
    {
      "cell_type": "code",
      "execution_count": null,
      "id": "71426268",
      "metadata": {
        "cellId": "gvthwwduy0jxjpsoi96at",
        "id": "71426268"
      },
      "outputs": [],
      "source": [
        "file = \"/home/jupyter/mnt/s3/cv03-fasterrcnn-detection/detection_examples/mrs_maisel.jpg\"\n",
        "img = pil.Image.open(file)\n",
        "img\n"
      ]
    },
    {
      "cell_type": "code",
      "execution_count": null,
      "id": "d506d7c2",
      "metadata": {
        "cellId": "dzc42e5pk7ykjb37wmf2f",
        "id": "d506d7c2",
        "outputId": "c28ed240-48ba-4ed4-d491-cb91ef075424"
      },
      "outputs": [
        {
          "name": "stderr",
          "output_type": "stream",
          "text": [
            "/usr/local/lib/python3.7/dist-packages/torchvision/ops/boxes.py:101: UserWarning: This overload of nonzero is deprecated:\n",
            "\tnonzero()\n",
            "Consider using one of the following signatures instead:\n",
            "\tnonzero(*, bool as_tuple) (Triggered internally at  /pytorch/torch/csrc/utils/python_arg_parser.cpp:766.)\n",
            "  keep = keep.nonzero().squeeze(1)\n"
          ]
        },
        {
          "ename": "KeyError",
          "evalue": "1",
          "output_type": "error",
          "traceback": [
            "\u001b[0;31m---------------------------------------------------------------------------\u001b[0m",
            "\u001b[0;31mKeyError\u001b[0m                                  Traceback (most recent call last)",
            "\u001b[0;32m<ipython-input-1-2aae9053ef8e>\u001b[0m in \u001b[0;36m<module>\u001b[0;34m\u001b[0m\n\u001b[1;32m      7\u001b[0m     \u001b[0mmodel\u001b[0m\u001b[0;34m=\u001b[0m\u001b[0mmodel\u001b[0m\u001b[0;34m,\u001b[0m\u001b[0;34m\u001b[0m\u001b[0;34m\u001b[0m\u001b[0m\n\u001b[1;32m      8\u001b[0m     \u001b[0mcoco_id_to_name\u001b[0m\u001b[0;34m=\u001b[0m\u001b[0mcoco_id_to_name\u001b[0m\u001b[0;34m,\u001b[0m\u001b[0;34m\u001b[0m\u001b[0;34m\u001b[0m\u001b[0m\n\u001b[0;32m----> 9\u001b[0;31m     \u001b[0mdevice\u001b[0m\u001b[0;34m=\u001b[0m\u001b[0;34m\"cuda\"\u001b[0m\u001b[0;34m\u001b[0m\u001b[0;34m\u001b[0m\u001b[0m\n\u001b[0m\u001b[1;32m     10\u001b[0m )\n\u001b[1;32m     11\u001b[0m \u001b[0;34m\u001b[0m\u001b[0m\n",
            "\u001b[0;32m<ipython-input-1-b1f96b4c36a5>\u001b[0m in \u001b[0;36mvisualize_prediction\u001b[0;34m(file, model, coco_id_to_name, device, verbose, thresh, n_colors)\u001b[0m\n",
            "\u001b[0;31mKeyError\u001b[0m: 1"
          ]
        }
      ],
      "source": [
        "\n",
        "path = \"/home/jupyter/mnt/s3/cv03-fasterrcnn-detection/coco_id_to_name.json\"\n",
        "with open(path, 'r') as f:\n",
        "    coco_id_to_name = json.load(f)\n",
        "\n",
        "out = visualize_prediction(\n",
        "    file=file, \n",
        "    model=model, \n",
        "    coco_id_to_name=coco_id_to_name,\n",
        "    device=\"cuda\"\n",
        ")\n",
        "\n",
        "# out = visualize_prediction(file, model, device=\"cpu\")\n",
        "\n"
      ]
    },
    {
      "cell_type": "code",
      "execution_count": null,
      "id": "6c1854a0",
      "metadata": {
        "cellId": "2pgfqf7p6a5lis6dm5o7j",
        "id": "6c1854a0"
      },
      "outputs": [],
      "source": [
        "#!g1.1\n"
      ]
    }
  ],
  "metadata": {
    "kernelspec": {
      "display_name": "Yandex DataSphere Kernel",
      "language": "python",
      "name": "python3"
    },
    "language_info": {
      "codemirror_mode": {
        "name": "ipython",
        "version": 3
      },
      "file_extension": ".py",
      "mimetype": "text/x-python",
      "name": "python",
      "nbconvert_exporter": "python",
      "pygments_lexer": "ipython3",
      "version": "3.7.7"
    },
    "notebookId": "bc1d3dc1-74ba-4ed1-ae43-c3249f35b653",
    "notebookPath": "seminar03_fasterrcnn_detection/cv03_image_segmentation.ipynb",
    "colab": {
      "name": "cv03_image_segmentation.ipynb",
      "provenance": [],
      "include_colab_link": true
    }
  },
  "nbformat": 4,
  "nbformat_minor": 5
}