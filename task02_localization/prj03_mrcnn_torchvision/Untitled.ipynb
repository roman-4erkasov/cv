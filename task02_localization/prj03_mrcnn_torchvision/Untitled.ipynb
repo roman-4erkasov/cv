{
 "cells": [
  {
   "cell_type": "code",
   "execution_count": 1,
   "id": "9f1f40bc-47ae-425c-ad32-3d2be28d9764",
   "metadata": {
    "tags": []
   },
   "outputs": [],
   "source": [
    "# %%bash\n",
    "\n",
    "# # Download TorchVision repo to use some files from\n",
    "# # references/detection\n",
    "# git clone https://github.com/pytorch/vision.git\n",
    "# cd vision\n",
    "# git checkout v0.8.2\n",
    "\n",
    "# cp references/detection/utils.py ../\n",
    "# cp references/detection/transforms.py ../\n",
    "# cp references/detection/coco_eval.py ../\n",
    "# cp references/detection/engine.py ../\n",
    "# cp references/detection/coco_utils.py ../\n"
   ]
  },
  {
   "cell_type": "code",
   "execution_count": 2,
   "id": "377505be-ff63-4e96-8ae1-ce696bf6c9aa",
   "metadata": {
    "tags": []
   },
   "outputs": [],
   "source": [
    "# %%bash\n",
    "\n",
    "# pip install cython\n",
    "# # Install pycocotools, the version by default in Colab\n",
    "# # has a bug fixed in https://github.com/cocodataset/cocoapi/pull/354\n",
    "# pip install -U 'git+https://github.com/cocodataset/cocoapi.git#subdirectory=PythonAPI'\n"
   ]
  },
  {
   "cell_type": "code",
   "execution_count": 3,
   "id": "164ec9c9-1308-4165-8b0f-2787070e5a60",
   "metadata": {},
   "outputs": [],
   "source": [
    "# %%bash\n",
    "\n",
    "# # download the Penn-Fudan dataset\n",
    "# wget https://www.cis.upenn.edu/~jshi/ped_html/PennFudanPed.zip .\n",
    "# # extract it in the current folder\n",
    "# unzip PennFudanPed.zip\n"
   ]
  },
  {
   "cell_type": "code",
   "execution_count": 4,
   "id": "99b9a602-91aa-4a79-b64a-6f047380e98d",
   "metadata": {
    "tags": []
   },
   "outputs": [],
   "source": [
    "# from PIL import Image\n",
    "# Image.open('PennFudanPed/PNGImages/FudanPed00001.png')\n"
   ]
  },
  {
   "cell_type": "code",
   "execution_count": 5,
   "id": "d2012375-1b4b-4fbb-8959-9c05735af5d1",
   "metadata": {},
   "outputs": [],
   "source": [
    "# mask = Image.open('PennFudanPed/PedMasks/FudanPed00001_mask.png')\n",
    "# # each mask instance has a different color, from zero to N, where\n",
    "# # N is the number of instances. In order to make visualization easier,\n",
    "# # let's adda color palette to the mask.\n",
    "# mask.putpalette([\n",
    "#     0, 0, 0, # black background\n",
    "#     255, 0, 0, # index 1 is red\n",
    "#     255, 255, 0, # index 2 is yellow\n",
    "#     255, 153, 0, # index 3 is orange\n",
    "# ])\n",
    "# mask\n"
   ]
  },
  {
   "cell_type": "code",
   "execution_count": 1,
   "id": "b96b75ef-9179-4e6a-95cc-c95f53289b3a",
   "metadata": {},
   "outputs": [],
   "source": [
    "import os\n",
    "import numpy as np\n",
    "import torch\n",
    "import torch.utils.data\n",
    "from PIL import Image\n",
    "\n",
    "\n",
    "DEBUG = True\n",
    "\n",
    "class PennFudanDataset(torch.utils.data.Dataset):\n",
    "    def __init__(self, root, transforms=None):\n",
    "        self.root = root\n",
    "        self.transforms = transforms\n",
    "        # load all image files, sorting them to\n",
    "        # ensure that they are aligned\n",
    "        self.imgs = list(sorted(os.listdir(os.path.join(root, \"PNGImages\"))))\n",
    "        self.masks = list(sorted(os.listdir(os.path.join(root, \"PedMasks\"))))\n",
    "\n",
    "    def __getitem__(self, idx):\n",
    "        # load images ad masks\n",
    "        img_path = os.path.join(self.root, \"PNGImages\", self.imgs[idx])\n",
    "        mask_path = os.path.join(self.root, \"PedMasks\", self.masks[idx])\n",
    "        img = Image.open(img_path).convert(\"RGB\")\n",
    "        # note that we haven't converted the mask to RGB,\n",
    "        # because each color corresponds to a different instance\n",
    "        # with 0 being background\n",
    "        mask = Image.open(mask_path)\n",
    "\n",
    "        mask = np.array(mask)\n",
    "        # instances are encoded as different colors\n",
    "        obj_ids = np.unique(mask)\n",
    "        # first id is the background, so remove it\n",
    "        obj_ids = obj_ids[1:]\n",
    "\n",
    "        # split the color-encoded mask into a set\n",
    "        # of binary masks\n",
    "        masks = mask == obj_ids[:, None, None]\n",
    "\n",
    "        # get bounding box coordinates for each mask\n",
    "        num_objs = len(obj_ids)\n",
    "        boxes = []\n",
    "        for i in range(num_objs):\n",
    "            pos = np.where(masks[i])\n",
    "            xmin = np.min(pos[1])\n",
    "            xmax = np.max(pos[1])\n",
    "            ymin = np.min(pos[0])\n",
    "            ymax = np.max(pos[0])\n",
    "            boxes.append([xmin, ymin, xmax, ymax])\n",
    "\n",
    "        boxes = torch.as_tensor(boxes, dtype=torch.float32)\n",
    "        # there is only one class\n",
    "        labels = torch.ones((num_objs,), dtype=torch.int64)\n",
    "        masks = torch.as_tensor(masks, dtype=torch.uint8)\n",
    "\n",
    "        image_id = torch.tensor([idx])\n",
    "        area = (boxes[:, 3] - boxes[:, 1]) * (boxes[:, 2] - boxes[:, 0])\n",
    "        # suppose all instances are not crowd\n",
    "        iscrowd = torch.zeros((num_objs,), dtype=torch.int64)\n",
    "\n",
    "        target = {}\n",
    "        target[\"boxes\"] = boxes\n",
    "        target[\"labels\"] = labels\n",
    "        target[\"masks\"] = masks\n",
    "        target[\"image_id\"] = image_id\n",
    "        target[\"area\"] = area\n",
    "        target[\"iscrowd\"] = iscrowd\n",
    "\n",
    "        if self.transforms is not None:\n",
    "            img, target = self.transforms(img, target)\n",
    "\n",
    "        return img, target\n",
    "\n",
    "    def __len__(self):\n",
    "        return len(self.imgs)\n",
    "\n",
    "dataset = PennFudanDataset('PennFudanPed/')\n"
   ]
  },
  {
   "cell_type": "code",
   "execution_count": 2,
   "id": "772d3bfc-4065-4b13-ab6b-986c44ea0236",
   "metadata": {},
   "outputs": [],
   "source": [
    "import torchvision\n",
    "from torchvision.models.detection.faster_rcnn import FastRCNNPredictor\n",
    "from torchvision.models.detection.mask_rcnn import MaskRCNNPredictor\n",
    "\n",
    "      \n",
    "def get_instance_segmentation_model(num_classes):\n",
    "    # load an instance segmentation model pre-trained on COCO\n",
    "    model = torchvision.models.detection.maskrcnn_resnet50_fpn(pretrained=True)\n",
    "\n",
    "    # get the number of input features for the classifier\n",
    "    in_features = model.roi_heads.box_predictor.cls_score.in_features\n",
    "    # replace the pre-trained head with a new one\n",
    "    model.roi_heads.box_predictor = FastRCNNPredictor(in_features, num_classes)\n",
    "\n",
    "    # now get the number of input features for the mask classifier\n",
    "    in_features_mask = model.roi_heads.mask_predictor.conv5_mask.in_channels\n",
    "    hidden_layer = 256\n",
    "    # and replace the mask predictor with a new one\n",
    "    model.roi_heads.mask_predictor = MaskRCNNPredictor(in_features_mask,\n",
    "                                                       hidden_layer,\n",
    "                                                       num_classes)\n",
    "\n",
    "    return model\n"
   ]
  },
  {
   "cell_type": "code",
   "execution_count": 3,
   "id": "43f67b23-a24a-4d17-8d74-ec6e054bc297",
   "metadata": {},
   "outputs": [],
   "source": [
    "from engine import train_one_epoch, evaluate\n",
    "import utils\n",
    "import transforms as T\n",
    "\n",
    "\n",
    "def get_transform(train):\n",
    "    transforms = []\n",
    "    # converts the image, a PIL image, into a PyTorch Tensor\n",
    "    transforms.append(T.ToTensor())\n",
    "    if train:\n",
    "        # during training, randomly flip the training images\n",
    "        # and ground-truth for data augmentation\n",
    "        transforms.append(T.RandomHorizontalFlip(0.5))\n",
    "    return T.Compose(transforms)"
   ]
  },
  {
   "cell_type": "code",
   "execution_count": 4,
   "id": "ece17fce-f0f9-4c0a-bb3d-a3d59ad5ec78",
   "metadata": {},
   "outputs": [],
   "source": [
    "# model = torchvision.models.detection.fasterrcnn_resnet50_fpn(pretrained=True)\n",
    "# dataset = PennFudanDataset('PennFudanPed', get_transform(train=True))\n",
    "\n",
    "# data_loader = torch.utils.data.DataLoader(\n",
    "#     torch.utils.data.Subset(\n",
    "#         dataset, \n",
    "#         range(0, min(10, len(dataset)))\n",
    "#     ) if DEBUG else dataset, \n",
    "#     batch_size=2, \n",
    "#     shuffle=True, \n",
    "#     num_workers=4,\n",
    "#     collate_fn=utils.collate_fn\n",
    "# )\n",
    "# # For Training\n",
    "# images,targets = next(iter(data_loader))\n",
    "# images = list(image for image in images)\n",
    "# targets = [{k: v for k, v in t.items()} for t in targets]\n",
    "# output = model(images,targets)   # Returns losses and detections\n",
    "# # For inference\n",
    "# model.eval()\n",
    "# x = [torch.rand(3, 300, 400), torch.rand(3, 500, 400)]\n",
    "# predictions = model(x)           # Returns predictions\n",
    "\n"
   ]
  },
  {
   "cell_type": "code",
   "execution_count": 57,
   "id": "08c14019-ce1e-4f93-80de-90c246a6e04c",
   "metadata": {},
   "outputs": [],
   "source": [
    "# use our dataset and defined transformations\n",
    "dataset = PennFudanDataset('PennFudanPed', get_transform(train=True))\n",
    "dataset_test = PennFudanDataset('PennFudanPed', get_transform(train=False))\n",
    "\n",
    "# split the dataset in train and test set\n",
    "torch.manual_seed(1)\n",
    "indices = torch.randperm(len(dataset)).tolist()\n",
    "dataset = torch.utils.data.Subset(dataset, indices[:-50])\n",
    "dataset_test = torch.utils.data.Subset(dataset_test, indices[-50:])\n",
    "\n",
    "# define training and validation data loaders\n",
    "data_loader = torch.utils.data.DataLoader(\n",
    "    torch.utils.data.Subset(\n",
    "        dataset, \n",
    "        range(0, min(10, len(dataset)))\n",
    "    ) if DEBUG else dataset,\n",
    "    # dataset, \n",
    "    batch_size=2, \n",
    "    shuffle=True, \n",
    "    num_workers=4,\n",
    "    collate_fn=utils.collate_fn\n",
    ")\n",
    "\n",
    "data_loader_test = torch.utils.data.DataLoader(\n",
    "    torch.utils.data.Subset(\n",
    "        dataset_test, \n",
    "        range(0, min(10, len(dataset_test)))\n",
    "    ) if DEBUG else dataset_test,\n",
    "    # dataset_test, \n",
    "    batch_size=1, \n",
    "    shuffle=False, \n",
    "    num_workers=4,\n",
    "    collate_fn=utils.collate_fn\n",
    ")\n",
    "\n",
    "data_loader_test_2 = torch.utils.data.DataLoader(\n",
    "    torch.utils.data.Subset(\n",
    "        dataset_test, \n",
    "        range(0, min(10, len(dataset_test)))\n",
    "    ) if DEBUG else dataset_test,\n",
    "    # dataset_test, \n",
    "    batch_size=1, \n",
    "    shuffle=False, \n",
    "    num_workers=4,\n",
    "    collate_fn=utils.collate_fn\n",
    ")"
   ]
  },
  {
   "cell_type": "code",
   "execution_count": 6,
   "id": "130df441-47a3-4d23-87c0-58bb9cfdcc79",
   "metadata": {},
   "outputs": [],
   "source": [
    "device = torch.device('cuda') if torch.cuda.is_available() else torch.device('cpu')\n",
    "\n",
    "# our dataset has two classes only - background and person\n",
    "num_classes = 2\n",
    "\n",
    "# get the model using our helper function\n",
    "model = get_instance_segmentation_model(num_classes)\n",
    "# move model to the right device\n",
    "model.to(device)\n",
    "\n",
    "# construct an optimizer\n",
    "params = [p for p in model.parameters() if p.requires_grad]\n",
    "optimizer = torch.optim.SGD(\n",
    "    params,\n",
    "    lr=0.005,\n",
    "    momentum=0.9,\n",
    "    weight_decay=0.0005\n",
    ")\n",
    "\n",
    "# and a learning rate scheduler which decreases the learning rate by\n",
    "# 10x every 3 epochs\n",
    "lr_scheduler = torch.optim.lr_scheduler.StepLR(\n",
    "    optimizer,\n",
    "    step_size=3,\n",
    "    gamma=0.1\n",
    ")\n"
   ]
  },
  {
   "cell_type": "code",
   "execution_count": 116,
   "id": "8f0098be-b6b2-44d3-b7db-e2a137174b12",
   "metadata": {},
   "outputs": [],
   "source": [
    "def save_checkpoint(model, optimizer, save_path, epoch, loss):\n",
    "    torch.save(\n",
    "        {\n",
    "            'model_state_dict': model.state_dict(),\n",
    "            'optimizer_state_dict': optimizer.state_dict(),\n",
    "            'epoch': epoch,\n",
    "            'loss': loss\n",
    "        }, \n",
    "        save_path\n",
    "    )\n",
    "\n",
    "def load_checkpoint(load_path):\n",
    "    checkpoint = torch.load(load_path)\n",
    "    model.load_state_dict(checkpoint['model_state_dict'])\n",
    "    optimizer.load_state_dict(checkpoint['optimizer_state_dict'])\n",
    "    epoch = checkpoint['epoch']\n",
    "    \n",
    "    return checkpoint['model_state_dict'], checkpoint['optimizer_state_dict'], epoch\n",
    "\n",
    "def validate(val_dataloader):\n",
    "    running_loss = 0\n",
    "    for data in val_dataloader:\n",
    "        optimizer.zero_grad()\n",
    "        images, targets = data[0], data[1]\n",
    "        images = list(image.to(device) for image in images)\n",
    "        targets = [{k: v.to(device) for k, v in t.items()} for t in targets]\n",
    "        with torch.no_grad():\n",
    "            loss_dict = model(images, targets)\n",
    "        loss_dict = model(images, targets)\n",
    "        loss = sum(loss for loss in loss_dict.values())\n",
    "        running_loss += loss.item()\n",
    "    val_loss = running_loss/len(val_dataloader.dataset)\n",
    "    return val_loss "
   ]
  },
  {
   "cell_type": "code",
   "execution_count": 118,
   "id": "85f0bbdc-3229-4084-85d7-03274723413e",
   "metadata": {
    "tags": []
   },
   "outputs": [
    {
     "name": "stdout",
     "output_type": "stream",
     "text": [
      "Epoch: [0]  [0/5]  eta: 0:01:08  lr: 0.001254  loss: 0.3532 (0.3532)  loss_classifier: 0.0315 (0.0315)  loss_box_reg: 0.1392 (0.1392)  loss_mask: 0.1759 (0.1759)  loss_objectness: 0.0057 (0.0057)  loss_rpn_box_reg: 0.0010 (0.0010)  time: 13.7678  data: 0.9514\n",
      "Epoch: [0]  [2/5]  eta: 0:00:37  lr: 0.003751  loss: 0.4552 (0.5752)  loss_classifier: 0.0589 (0.0800)  loss_box_reg: 0.2041 (0.3066)  loss_mask: 0.1759 (0.1709)  loss_objectness: 0.0095 (0.0105)  loss_rpn_box_reg: 0.0066 (0.0073)  time: 12.3634  data: 0.3206\n",
      "Epoch: [0]  [4/5]  eta: 0:00:10  lr: 0.005000  loss: 0.4552 (0.5267)  loss_classifier: 0.0589 (0.0691)  loss_box_reg: 0.2041 (0.2652)  loss_mask: 0.1759 (0.1757)  loss_objectness: 0.0095 (0.0107)  loss_rpn_box_reg: 0.0057 (0.0060)  time: 10.9927  data: 0.1960\n",
      "Epoch: [0] Total time: 0:00:55 (11.0720 s / it)\n",
      "loss=0.5793286830186843\n"
     ]
    },
    {
     "ename": "NameError",
     "evalue": "name 'save_path' is not defined",
     "output_type": "error",
     "traceback": [
      "\u001b[0;31m---------------------------------------------------------------------------\u001b[0m",
      "\u001b[0;31mNameError\u001b[0m                                 Traceback (most recent call last)",
      "Input \u001b[0;32mIn [118]\u001b[0m, in \u001b[0;36m<cell line: 20>\u001b[0;34m()\u001b[0m\n\u001b[1;32m     34\u001b[0m \u001b[38;5;28mprint\u001b[39m(\u001b[38;5;124mf\u001b[39m\u001b[38;5;124m\"\u001b[39m\u001b[38;5;124mloss=\u001b[39m\u001b[38;5;132;01m{\u001b[39;00mloss\u001b[38;5;132;01m}\u001b[39;00m\u001b[38;5;124m\"\u001b[39m)\n\u001b[1;32m     35\u001b[0m \u001b[38;5;28;01mif\u001b[39;00m loss_min \u001b[38;5;129;01mis\u001b[39;00m \u001b[38;5;28;01mNone\u001b[39;00m \u001b[38;5;129;01mor\u001b[39;00m loss \u001b[38;5;241m<\u001b[39m loss_min:\n\u001b[0;32m---> 36\u001b[0m     save_checkpoint(model, optimizer, \u001b[43msave_path\u001b[49m, epoch, loss)\n\u001b[1;32m     37\u001b[0m     loss_min \u001b[38;5;241m=\u001b[39m loss\n\u001b[1;32m     38\u001b[0m evaluator \u001b[38;5;241m=\u001b[39m evaluate(\n\u001b[1;32m     39\u001b[0m     model,\n\u001b[1;32m     40\u001b[0m     data_loader_test,\n\u001b[1;32m     41\u001b[0m     device\u001b[38;5;241m=\u001b[39mdevice\n\u001b[1;32m     42\u001b[0m )\n",
      "\u001b[0;31mNameError\u001b[0m: name 'save_path' is not defined"
     ]
    }
   ],
   "source": [
    "# let's train it for 10 epochs\n",
    "from torch.optim.lr_scheduler import StepLR\n",
    "num_epochs = 1 if DEBUG else 10\n",
    "\n",
    "checkpoint_path = \"maskrcnn.ckpt\"\n",
    "\n",
    "\n",
    "if os.path.exists(checkpoint_path):\n",
    "    (\n",
    "        model_state_dict, \n",
    "        optimizer_state_dict, \n",
    "        epoch_start\n",
    "    ) = load_checkpoint(load_path)\n",
    "    model.load_state_dict(model_state_dict)\n",
    "    optimizer.load_state_dict(optimizer_state_dict)\n",
    "else:\n",
    "    epoch_start = 0\n",
    "    loss_min = None\n",
    "\n",
    "for epoch in range(epoch_start, num_epochs):\n",
    "    # train for one epoch, printing every 10 iterations\n",
    "    metric_logger = train_one_epoch(\n",
    "        model, \n",
    "        optimizer, \n",
    "        data_loader,\n",
    "        device,\n",
    "        epoch,\n",
    "        print_freq=2 if DEBUG else 10,\n",
    "    )\n",
    "    # update the learning rate\n",
    "    lr_scheduler.step()\n",
    "    # evaluate on the test dataset\n",
    "    loss = validate(data_loader_test)\n",
    "    print(f\"loss={loss}\")\n",
    "    if loss_min is None or loss < loss_min:\n",
    "        save_checkpoint(model, optimizer, save_path, epoch, loss)\n",
    "        loss_min = loss\n",
    "    evaluator = evaluate(\n",
    "        model,\n",
    "        data_loader_test,\n",
    "        device=device\n",
    "    )\n"
   ]
  },
  {
   "cell_type": "code",
   "execution_count": 109,
   "id": "fb909ca0-3dd8-46b3-b517-fbedeb00f6f2",
   "metadata": {},
   "outputs": [],
   "source": [
    "# val = metric_logger.meters[\"loss\"].value\n"
   ]
  },
  {
   "cell_type": "code",
   "execution_count": 115,
   "id": "cce1fddc-0e5b-4fdb-a572-8815cf20ff95",
   "metadata": {},
   "outputs": [
    {
     "data": {
      "text/plain": [
       "0.6833550423383713"
      ]
     },
     "execution_count": 115,
     "metadata": {},
     "output_type": "execute_result"
    }
   ],
   "source": [
    "validate(data_loader_test_2)\n",
    "# loss_dict"
   ]
  },
  {
   "cell_type": "code",
   "execution_count": 114,
   "id": "c2a18440-ec86-4eb3-ba83-7abecef9946d",
   "metadata": {
    "tags": []
   },
   "outputs": [],
   "source": [
    "model.train()\n",
    "for images, targets in data_loader_test_2:\n",
    "    # images = list(image.to(device) for image in images)\n",
    "    images = list(image.to(device) for image in images)\n",
    "    targets = [{k: v.to(device) for k, v in t.items()} for t in targets]\n",
    "    loss_dict = model(images, targets)\n",
    "    break"
   ]
  },
  {
   "cell_type": "code",
   "execution_count": 98,
   "id": "f829395b-8394-4891-9c73-68fcf2e6007d",
   "metadata": {},
   "outputs": [
    {
     "ename": "RuntimeError",
     "evalue": "The size of tensor a (4) must match the size of tensor b (12) at non-singleton dimension 1",
     "output_type": "error",
     "traceback": [
      "\u001b[0;31m---------------------------------------------------------------------------\u001b[0m",
      "\u001b[0;31mRuntimeError\u001b[0m                              Traceback (most recent call last)",
      "Input \u001b[0;32mIn [98]\u001b[0m, in \u001b[0;36m<cell line: 53>\u001b[0;34m()\u001b[0m\n\u001b[1;32m     50\u001b[0m     \u001b[38;5;28;01mreturn\u001b[39;00m reduced_dict\n\u001b[1;32m     52\u001b[0m \u001b[38;5;66;03m# losses_reduced = reduce_dict(loss_dict)\u001b[39;00m\n\u001b[0;32m---> 53\u001b[0m losses_reduced \u001b[38;5;241m=\u001b[39m \u001b[38;5;28;43msum\u001b[39;49m\u001b[43m(\u001b[49m\u001b[43mloss\u001b[49m\u001b[43m \u001b[49m\u001b[38;5;28;43;01mfor\u001b[39;49;00m\u001b[43m \u001b[49m\u001b[43mloss\u001b[49m\u001b[43m \u001b[49m\u001b[38;5;129;43;01min\u001b[39;49;00m\u001b[43m \u001b[49m\u001b[43mloss_dict_reduced\u001b[49m\u001b[38;5;241;43m.\u001b[39;49m\u001b[43mvalues\u001b[49m\u001b[43m(\u001b[49m\u001b[43m)\u001b[49m\u001b[43m)\u001b[49m\n\u001b[1;32m     54\u001b[0m loss_value \u001b[38;5;241m=\u001b[39m losses_reduced\u001b[38;5;241m.\u001b[39mitem()\n",
      "\u001b[0;31mRuntimeError\u001b[0m: The size of tensor a (4) must match the size of tensor b (12) at non-singleton dimension 1"
     ]
    }
   ],
   "source": [
    "from collections import defaultdict, deque\n",
    "import datetime\n",
    "import pickle\n",
    "import time\n",
    "\n",
    "import torch\n",
    "import torch.distributed as dist\n",
    "\n",
    "import errno\n",
    "import os\n",
    "\n",
    "# loss_dict\n",
    "# targets\n",
    "\n",
    "def is_dist_avail_and_initialized():\n",
    "    if not dist.is_available():\n",
    "        return False\n",
    "    if not dist.is_initialized():\n",
    "        return False\n",
    "    return True\n",
    "\n",
    "def get_world_size():\n",
    "    if not is_dist_avail_and_initialized():\n",
    "        return 1\n",
    "    return dist.get_world_size()\n",
    "\n",
    "def reduce_dict(input_dict, average=True):\n",
    "    \"\"\"\n",
    "    Args:\n",
    "        input_dict (dict): all the values will be reduced\n",
    "        average (bool): whether to do average or sum\n",
    "    Reduce the values in the dictionary from all processes so that all processes\n",
    "    have the averaged results. Returns a dict with the same fields as\n",
    "    input_dict, after reduction.\n",
    "    \"\"\"\n",
    "    # world_size = get_world_size()\n",
    "    # if world_size < 2:\n",
    "    #     return input_dict\n",
    "    with torch.no_grad():\n",
    "        names = []\n",
    "        values = []\n",
    "        for k in sorted(input_dict.keys()):\n",
    "            names.append(k)\n",
    "            values.append(input_dict[k])\n",
    "        values = torch.stack(values, dim=0)\n",
    "        dist.all_reduce(values)\n",
    "        if average:\n",
    "            values /= world_size\n",
    "        reduced_dict = {k: v for k, v in zip(names, values)}\n",
    "    return reduced_dict\n",
    "\n",
    "# losses_reduced = reduce_dict(loss_dict)\n",
    "losses_reduced = sum(loss for loss in loss_dict_reduced.values())\n",
    "loss_value = losses_reduced.item()"
   ]
  },
  {
   "cell_type": "code",
   "execution_count": 108,
   "id": "0fe257f2-c4f2-4f58-938f-c60c2e3e9d4c",
   "metadata": {},
   "outputs": [
    {
     "data": {
      "text/plain": [
       "(torch.Size([12, 1, 349, 292]), torch.Size([12, 4]))"
      ]
     },
     "execution_count": 108,
     "metadata": {},
     "output_type": "execute_result"
    }
   ],
   "source": [
    "# losses = sum(loss for loss in loss_dict.values())\n",
    "# loss_dict_reduced \n",
    "# utils.reduce_dict(loss_dict)\n",
    "# loss_dict_reduced\n",
    "# loss_dict_reduced[\"masks\"].shape, loss_dict_reduced[\"boxes\"].shape"
   ]
  },
  {
   "cell_type": "code",
   "execution_count": 9,
   "id": "251f11d4-6f9d-477e-bea5-105e8370c131",
   "metadata": {
    "collapsed": true,
    "jupyter": {
     "outputs_hidden": true
    },
    "tags": []
   },
   "outputs": [
    {
     "name": "stdout",
     "output_type": "stream",
     "text": [
      "creating index...\n",
      "index created!\n",
      "Test:  [ 0/10]  eta: 0:00:59  model_time: 5.5450 (5.5450)  evaluator_time: 0.0058 (0.0058)  time: 5.9119  data: 0.3606\n",
      "Test:  [ 9/10]  eta: 0:00:05  model_time: 5.6495 (5.7659)  evaluator_time: 0.0105 (0.0116)  time: 5.8220  data: 0.0438\n",
      "Test: Total time: 0:00:58 (5.8331 s / it)\n",
      "Averaged stats: model_time: 5.6495 (5.7659)  evaluator_time: 0.0105 (0.0116)\n",
      "Accumulating evaluation results...\n",
      "DONE (t=0.01s).\n",
      "Accumulating evaluation results...\n",
      "DONE (t=0.01s).\n",
      "IoU metric: bbox\n",
      " Average Precision  (AP) @[ IoU=0.50:0.95 | area=   all | maxDets=100 ] = 0.497\n",
      " Average Precision  (AP) @[ IoU=0.50      | area=   all | maxDets=100 ] = 0.966\n",
      " Average Precision  (AP) @[ IoU=0.75      | area=   all | maxDets=100 ] = 0.410\n",
      " Average Precision  (AP) @[ IoU=0.50:0.95 | area= small | maxDets=100 ] = -1.000\n",
      " Average Precision  (AP) @[ IoU=0.50:0.95 | area=medium | maxDets=100 ] = 0.333\n",
      " Average Precision  (AP) @[ IoU=0.50:0.95 | area= large | maxDets=100 ] = 0.508\n",
      " Average Recall     (AR) @[ IoU=0.50:0.95 | area=   all | maxDets=  1 ] = 0.182\n",
      " Average Recall     (AR) @[ IoU=0.50:0.95 | area=   all | maxDets= 10 ] = 0.589\n",
      " Average Recall     (AR) @[ IoU=0.50:0.95 | area=   all | maxDets=100 ] = 0.593\n",
      " Average Recall     (AR) @[ IoU=0.50:0.95 | area= small | maxDets=100 ] = -1.000\n",
      " Average Recall     (AR) @[ IoU=0.50:0.95 | area=medium | maxDets=100 ] = 0.500\n",
      " Average Recall     (AR) @[ IoU=0.50:0.95 | area= large | maxDets=100 ] = 0.600\n",
      "IoU metric: segm\n",
      " Average Precision  (AP) @[ IoU=0.50:0.95 | area=   all | maxDets=100 ] = 0.590\n",
      " Average Precision  (AP) @[ IoU=0.50      | area=   all | maxDets=100 ] = 0.966\n",
      " Average Precision  (AP) @[ IoU=0.75      | area=   all | maxDets=100 ] = 0.760\n",
      " Average Precision  (AP) @[ IoU=0.50:0.95 | area= small | maxDets=100 ] = -1.000\n",
      " Average Precision  (AP) @[ IoU=0.50:0.95 | area=medium | maxDets=100 ] = 0.317\n",
      " Average Precision  (AP) @[ IoU=0.50:0.95 | area= large | maxDets=100 ] = 0.605\n",
      " Average Recall     (AR) @[ IoU=0.50:0.95 | area=   all | maxDets=  1 ] = 0.218\n",
      " Average Recall     (AR) @[ IoU=0.50:0.95 | area=   all | maxDets= 10 ] = 0.629\n",
      " Average Recall     (AR) @[ IoU=0.50:0.95 | area=   all | maxDets=100 ] = 0.629\n",
      " Average Recall     (AR) @[ IoU=0.50:0.95 | area= small | maxDets=100 ] = -1.000\n",
      " Average Recall     (AR) @[ IoU=0.50:0.95 | area=medium | maxDets=100 ] = 0.500\n",
      " Average Recall     (AR) @[ IoU=0.50:0.95 | area= large | maxDets=100 ] = 0.638\n"
     ]
    }
   ],
   "source": [
    "res = evaluate(\n",
    "    model,\n",
    "    data_loader_test,\n",
    "    device=device\n",
    ")"
   ]
  },
  {
   "cell_type": "code",
   "execution_count": 34,
   "id": "746b6ecf-a3af-47dc-8cea-8b1404461f21",
   "metadata": {
    "collapsed": true,
    "jupyter": {
     "outputs_hidden": true
    },
    "tags": []
   },
   "outputs": [
    {
     "data": {
      "text/plain": [
       "{'image_id': 34,\n",
       " 'category_id': 1,\n",
       " 'aRng': [0, 10000000000.0],\n",
       " 'maxDet': 100,\n",
       " 'dtIds': [1, 2, 3, 4, 5],\n",
       " 'gtIds': [57],\n",
       " 'dtMatches': array([[57.,  0.,  0.,  0.,  0.],\n",
       "        [57.,  0.,  0.,  0.,  0.],\n",
       "        [57.,  0.,  0.,  0.,  0.],\n",
       "        [57.,  0.,  0.,  0.,  0.],\n",
       "        [57.,  0.,  0.,  0.,  0.],\n",
       "        [57.,  0.,  0.,  0.,  0.],\n",
       "        [57.,  0.,  0.,  0.,  0.],\n",
       "        [57.,  0.,  0.,  0.,  0.],\n",
       "        [ 0.,  0.,  0.,  0.,  0.],\n",
       "        [ 0.,  0.,  0.,  0.,  0.]]),\n",
       " 'gtMatches': array([[1.],\n",
       "        [1.],\n",
       "        [1.],\n",
       "        [1.],\n",
       "        [1.],\n",
       "        [1.],\n",
       "        [1.],\n",
       "        [1.],\n",
       "        [0.],\n",
       "        [0.]]),\n",
       " 'dtScores': [0.16461198031902313,\n",
       "  0.09843281656503677,\n",
       "  0.08629433810710907,\n",
       "  0.07625444233417511,\n",
       "  0.06801211088895798],\n",
       " 'gtIgnore': array([0]),\n",
       " 'dtIgnore': array([[False, False, False, False, False],\n",
       "        [False, False, False, False, False],\n",
       "        [False, False, False, False, False],\n",
       "        [False, False, False, False, False],\n",
       "        [False, False, False, False, False],\n",
       "        [False, False, False, False, False],\n",
       "        [False, False, False, False, False],\n",
       "        [False, False, False, False, False],\n",
       "        [False, False, False, False, False],\n",
       "        [False, False, False, False, False]])}"
      ]
     },
     "execution_count": 34,
     "metadata": {},
     "output_type": "execute_result"
    }
   ],
   "source": [
    "res.eval_imgs[\"bbox\"][0, 0,0]"
   ]
  },
  {
   "cell_type": "code",
   "execution_count": 41,
   "id": "e55f36e9-ed16-43b7-b38f-6a25a1ea1bc4",
   "metadata": {
    "collapsed": true,
    "jupyter": {
     "outputs_hidden": true
    },
    "tags": []
   },
   "outputs": [
    {
     "data": {
      "text/plain": [
       "{'image_id': 34,\n",
       " 'category_id': 1,\n",
       " 'aRng': [0, 1024],\n",
       " 'maxDet': 100,\n",
       " 'dtIds': [1, 2, 3, 4, 5],\n",
       " 'gtIds': [57],\n",
       " 'dtMatches': array([[57.,  0.,  0.,  0.,  0.],\n",
       "        [57.,  0.,  0.,  0.,  0.],\n",
       "        [57.,  0.,  0.,  0.,  0.],\n",
       "        [57.,  0.,  0.,  0.,  0.],\n",
       "        [57.,  0.,  0.,  0.,  0.],\n",
       "        [57.,  0.,  0.,  0.,  0.],\n",
       "        [57.,  0.,  0.,  0.,  0.],\n",
       "        [57.,  0.,  0.,  0.,  0.],\n",
       "        [ 0.,  0.,  0.,  0.,  0.],\n",
       "        [ 0.,  0.,  0.,  0.,  0.]]),\n",
       " 'gtMatches': array([[1.],\n",
       "        [1.],\n",
       "        [1.],\n",
       "        [1.],\n",
       "        [1.],\n",
       "        [1.],\n",
       "        [1.],\n",
       "        [1.],\n",
       "        [0.],\n",
       "        [0.]]),\n",
       " 'dtScores': [0.16461198031902313,\n",
       "  0.09843281656503677,\n",
       "  0.08629433810710907,\n",
       "  0.07625444233417511,\n",
       "  0.06801211088895798],\n",
       " 'gtIgnore': array([1]),\n",
       " 'dtIgnore': array([[ True,  True, False,  True,  True],\n",
       "        [ True,  True, False,  True,  True],\n",
       "        [ True,  True, False,  True,  True],\n",
       "        [ True,  True, False,  True,  True],\n",
       "        [ True,  True, False,  True,  True],\n",
       "        [ True,  True, False,  True,  True],\n",
       "        [ True,  True, False,  True,  True],\n",
       "        [ True,  True, False,  True,  True],\n",
       "        [ True,  True, False,  True,  True],\n",
       "        [ True,  True, False,  True,  True]])}"
      ]
     },
     "execution_count": 41,
     "metadata": {},
     "output_type": "execute_result"
    }
   ],
   "source": [
    "# dir(res)\n",
    "res.eval_imgs[\"bbox\"][0, 1,0]"
   ]
  },
  {
   "cell_type": "code",
   "execution_count": 45,
   "id": "dfcf4047-d55b-4217-a564-4b33d783ca65",
   "metadata": {},
   "outputs": [
    {
     "data": {
      "text/plain": [
       "(10, 101, 1, 4, 3)"
      ]
     },
     "execution_count": 45,
     "metadata": {},
     "output_type": "execute_result"
    }
   ],
   "source": [
    "res.coco_eval[\"bbox\"].eval[\"scores\"].shape#.keys()#[\"precision\"].shape"
   ]
  },
  {
   "cell_type": "raw",
   "id": "705b98aa-b68a-4484-8bd4-9454569e0534",
   "metadata": {},
   "source": [
    "# pick one image from the test set\n",
    "img, _ = dataset_test[0]\n",
    "# put the model in evaluation mode\n",
    "model.eval()\n",
    "with torch.no_grad():\n",
    "    prediction = model([img.to(device)])\n"
   ]
  },
  {
   "cell_type": "code",
   "execution_count": null,
   "id": "dfb4d536-4ef4-419d-aed2-7fa52b903a3e",
   "metadata": {},
   "outputs": [],
   "source": [
    "# import torch\n",
    "# import numpy as np\n",
    "# import matplotlib.pyplot as plt\n",
    "\n",
    "# import torchvision.transforms.functional as F\n",
    "\n",
    "\n",
    "# plt.rcParams[\"savefig.bbox\"] = 'tight'\n",
    "\n",
    "\n",
    "# def show(imgs):\n",
    "#     if not isinstance(imgs, list):\n",
    "#         imgs = [imgs]\n",
    "#     fig, axs = plt.subplots(ncols=len(imgs), squeeze=False)\n",
    "#     for i, img in enumerate(imgs):\n",
    "#         img = img.detach()\n",
    "#         img = F.to_pil_image(img)\n",
    "#         axs[0, i].imshow(np.asarray(img))\n",
    "#         axs[0, i].set(xticklabels=[], yticklabels=[], xticks=[], yticks=[])"
   ]
  },
  {
   "cell_type": "code",
   "execution_count": 43,
   "id": "2ae41ecc-b2e6-43e0-8ba1-b8561e67a1af",
   "metadata": {
    "collapsed": true,
    "jupyter": {
     "outputs_hidden": true
    },
    "tags": []
   },
   "outputs": [
    {
     "data": {
      "text/plain": [
       "tensor([[[0.4902, 0.4784, 0.4745,  ..., 0.0627, 0.0627, 0.0627],\n",
       "         [0.4784, 0.4667, 0.4706,  ..., 0.0667, 0.0667, 0.0667],\n",
       "         [0.4706, 0.4667, 0.4745,  ..., 0.0784, 0.0784, 0.0784],\n",
       "         ...,\n",
       "         [0.8431, 0.8118, 0.8000,  ..., 0.8235, 0.8392, 0.8431],\n",
       "         [0.8588, 0.8314, 0.7843,  ..., 0.8275, 0.8118, 0.7882],\n",
       "         [0.8627, 0.8627, 0.8000,  ..., 0.8392, 0.7961, 0.7490]],\n",
       "\n",
       "        [[0.3059, 0.2941, 0.2902,  ..., 0.0706, 0.0706, 0.0706],\n",
       "         [0.2941, 0.2824, 0.2863,  ..., 0.0745, 0.0745, 0.0745],\n",
       "         [0.2863, 0.2824, 0.2902,  ..., 0.0863, 0.0863, 0.0863],\n",
       "         ...,\n",
       "         [0.8039, 0.7725, 0.7608,  ..., 0.7843, 0.8000, 0.8039],\n",
       "         [0.8196, 0.7922, 0.7451,  ..., 0.7882, 0.7725, 0.7490],\n",
       "         [0.8235, 0.8235, 0.7608,  ..., 0.8000, 0.7569, 0.7098]],\n",
       "\n",
       "        [[0.2431, 0.2314, 0.2275,  ..., 0.0667, 0.0667, 0.0667],\n",
       "         [0.2314, 0.2196, 0.2235,  ..., 0.0706, 0.0706, 0.0706],\n",
       "         [0.2235, 0.2196, 0.2275,  ..., 0.0824, 0.0824, 0.0824],\n",
       "         ...,\n",
       "         [0.7647, 0.7333, 0.7216,  ..., 0.7373, 0.7529, 0.7569],\n",
       "         [0.7804, 0.7529, 0.7059,  ..., 0.7412, 0.7255, 0.7020],\n",
       "         [0.7843, 0.7843, 0.7216,  ..., 0.7529, 0.7098, 0.6627]]])"
      ]
     },
     "execution_count": 43,
     "metadata": {},
     "output_type": "execute_result"
    }
   ],
   "source": [
    "# prediction[0][\"boxes\"]\n",
    "img"
   ]
  },
  {
   "cell_type": "code",
   "execution_count": 44,
   "id": "bccdb9c2-f771-48b6-af67-1cb6e0b82378",
   "metadata": {},
   "outputs": [
    {
     "data": {
      "text/plain": [
       "<matplotlib.image.AxesImage at 0x7fbd2c274eb0>"
      ]
     },
     "execution_count": 44,
     "metadata": {},
     "output_type": "execute_result"
    },
    {
     "data": {
      "image/png": "[encoded data removed]",
      "text/plain": [
       "<Figure size 432x288 with 1 Axes>"
      ]
     },
     "metadata": {
      "needs_background": "light"
     },
     "output_type": "display_data"
    }
   ],
   "source": [
    "# (img*255).to(torch.uint8)\n",
    "# from torchvision.utils import draw_bounding_boxes, draw_segmentation_masks\n",
    "\n",
    "# draw_segmentation_masks?\n",
    "# prediction[0][\"masks\"].squeeze().round().unique()\n",
    "plt.imshow(img.permute(1,2,0))"
   ]
  },
  {
   "cell_type": "code",
   "execution_count": 26,
   "id": "91469ab6-18ec-4e70-9178-3e5c1484489d",
   "metadata": {},
   "outputs": [
    {
     "data": {
      "text/plain": [
       "True"
      ]
     },
     "execution_count": 26,
     "metadata": {},
     "output_type": "execute_result"
    }
   ],
   "source": [
    "# img_res\n",
    "# to_image = torchvision.transforms.ToPILImage()\n",
    "# torchvision.utils.save_image(img_res, \"result.png\")\n",
    "import cv2\n",
    "cv2.imwrite(filename=\"result.png\", img=img_res.permute(1,2,0).numpy())"
   ]
  },
  {
   "cell_type": "code",
   "execution_count": 67,
   "id": "3ef1f4b3-5919-4052-b29a-0d18cf0c4e84",
   "metadata": {},
   "outputs": [],
   "source": [
    "from torchvision.utils import draw_bounding_boxes, draw_segmentation_masks\n",
    "from torchvision.transforms.functional import to_tensor\n",
    "from matplotlib import pyplot as plt\n",
    "from copy import deepcopy\n",
    "\n",
    "\n",
    "class Vizualizer:\n",
    "    @staticmethod\n",
    "    def add_boxes(img, boxes):        \n",
    "        img_bbox = draw_bounding_boxes(\n",
    "            image=img,\n",
    "            boxes=boxes\n",
    "        )\n",
    "        return img_bbox\n",
    "\n",
    "    @staticmethod\n",
    "    def add_masks(img, masks):\n",
    "        img_mask = draw_segmentation_masks(\n",
    "            image=img,\n",
    "            masks=masks.squeeze().round().to(torch.bool),\n",
    "            alpha=0.5\n",
    "        )\n",
    "        return img_mask\n",
    "\n",
    "    @classmethod\n",
    "    def save(cls, img, filepath, boxes=None, masks=None):\n",
    "        # img = deepcopy(img)\n",
    "        img = (deepcopy(img) * 255).to(torch.uint8)\n",
    "        if boxes is not None: img = cls.add_boxes(img, boxes)\n",
    "        if masks is not None: img = cls.add_masks(img, masks)\n",
    "        cv2.imwrite(filename=filepath, img=img.permute(1,2,0).numpy())\n",
    "\n",
    "    @classmethod\n",
    "    def show(cls, img, boxes=None, masks=None):\n",
    "        img = (deepcopy(img) * 255).to(torch.uint8)\n",
    "        if boxes is not None: img = cls.add_boxes(img, boxes)\n",
    "        if masks is not None: img = cls.add_masks(img, masks)\n",
    "        plt.imshow(img.permute(1,2,0))\n"
   ]
  },
  {
   "cell_type": "code",
   "execution_count": 70,
   "id": "a9272ed8-07c6-4b7d-8558-5f0f1b33b2fd",
   "metadata": {
    "tags": []
   },
   "outputs": [
    {
     "data": {
      "image/png": "[encoded data removed]",
      "text/plain": [
       "<Figure size 432x288 with 1 Axes>"
      ]
     },
     "metadata": {
      "needs_background": "light"
     },
     "output_type": "display_data"
    }
   ],
   "source": [
    "# img_res\n",
    "# Vizualizer.show(img=img, boxes=prediction[0][\"boxes\"], masks=prediction[0][\"masks\"])\n",
    "Vizualizer.show(img=img, boxes=prediction[0][\"boxes\"], masks=prediction[0][\"masks\"])\n"
   ]
  },
  {
   "cell_type": "code",
   "execution_count": 69,
   "id": "7996d336-a0d5-42e8-ba16-58a14efd6b47",
   "metadata": {},
   "outputs": [],
   "source": [
    "# prediction[0]#[\"masks\"].shape\n",
    "Vizualizer.save(\n",
    "    img=img,\n",
    "    filepath=\"result2.png\",\n",
    "    boxes=None,\n",
    "    masks=prediction[0][\"masks\"]\n",
    ")\n"
   ]
  },
  {
   "cell_type": "code",
   "execution_count": null,
   "id": "fe25a779-02e6-4be9-9b86-85c5be80126d",
   "metadata": {},
   "outputs": [],
   "source": [
    "Image.fromarray(prediction[0]['masks'][0, 0].mul(255).byte().cpu().numpy())"
   ]
  },
  {
   "cell_type": "code",
   "execution_count": null,
   "id": "3cc84dba-22f1-460a-8f95-ba1b9fed1118",
   "metadata": {},
   "outputs": [],
   "source": [
    "mask = prediction[0]['masks'][0,0]\n",
    "Image.fromarray(\n",
    "    mask.mul(255).byte().cpu().numpy()\n",
    ")\n"
   ]
  },
  {
   "cell_type": "code",
   "execution_count": 14,
   "id": "55ca61b0-3799-4de7-9c19-c5e3b43f60e8",
   "metadata": {},
   "outputs": [],
   "source": [
    "def draw_prediction(prediction):\n",
    "    cv2.rectangle(\n",
    "        image_example_with_anchors,\n",
    "        (x1, y1),\n",
    "        (x2, y2),\n",
    "        np.random.randint(255, size=3).tolist(),\n",
    "        2\n",
    "    )\n",
    "    Image.fromarray(\n",
    "        prediction['masks'][0, 0]\n",
    "        .mul(255)\n",
    "        .byte()\n",
    "        .cpu()\n",
    "        .numpy()\n",
    "    )\n"
   ]
  },
  {
   "cell_type": "code",
   "execution_count": null,
   "id": "68ea6eac-98b6-4d20-8711-c7dae61d8bd8",
   "metadata": {},
   "outputs": [],
   "source": []
  },
  {
   "cell_type": "code",
   "execution_count": null,
   "id": "10e1b448-67f2-4c86-b44f-241509b8333d",
   "metadata": {},
   "outputs": [],
   "source": []
  }
 ],
 "metadata": {
  "kernelspec": {
   "display_name": "Python 3 (ipykernel)",
   "language": "python",
   "name": "python3"
  },
  "language_info": {
   "codemirror_mode": {
    "name": "ipython",
    "version": 3
   },
   "file_extension": ".py",
   "mimetype": "text/x-python",
   "name": "python",
   "nbconvert_exporter": "python",
   "pygments_lexer": "ipython3",
   "version": "3.8.10"
  }
 },
 "nbformat": 4,
 "nbformat_minor": 5
}
