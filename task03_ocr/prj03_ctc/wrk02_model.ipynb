{
 "cells": [
  {
   "cell_type": "code",
   "execution_count": 1,
   "id": "52bf09c8-9fa1-48d0-924c-4af7a3edaf47",
   "metadata": {},
   "outputs": [],
   "source": [
    "import os, json, re\n",
    "import torch\n",
    "from data import RecDataModule\n",
    "import pytorch_lightning as pl\n",
    "import torchvision\n",
    "\n",
    "PATH_DATA = \"/home/ubuntu/datasets/segment_car_plate/data/\"\n",
    "\n",
    "\n",
    "# def decode_sequence(pred, abc):\n",
    "#     pred = pred.permute(1, 0, 2).cpu().data.numpy()\n",
    "#     outputs = []\n",
    "#     for i in range(len(pred)):\n",
    "#         outputs.append(pred_to_string(pred[i], abc))\n",
    "#     return outputs\n"
   ]
  },
  {
   "cell_type": "code",
   "execution_count": 2,
   "id": "0e12ecea-0209-4d8a-bd88-62ffada31cea",
   "metadata": {},
   "outputs": [],
   "source": [
    "# with open(os.path.join(PATH_DATA, \"train_recognition.json\")) as fp:\n",
    "#     obj = json.load(fp)\n",
    "# fname2text = {os.path.basename(rec[\"file\"]):rec[\"text\"] for rec in obj}\n",
    "\n",
    "# assert len(obj) == len(fname2text)\n",
    "\n",
    "# config = []\n",
    "\n",
    "# for idx, fname in enumerate(\n",
    "#     os.listdir(os.path.join(PATH_DATA, \"train\"))\n",
    "# ):\n",
    "#     if re.fullmatch(\n",
    "#         pattern=r\"\\d+\\.box\\.\\d+\\.jpg\",\n",
    "#         string=fname\n",
    "#     ):\n",
    "#         config.append(\n",
    "#             (fname, fname2text[fname])\n",
    "#         )"
   ]
  },
  {
   "cell_type": "code",
   "execution_count": 3,
   "id": "a32757f2-594c-4a85-ad8b-b6a0158c4894",
   "metadata": {},
   "outputs": [],
   "source": [
    "def make_config(path_data):\n",
    "    with open(os.path.join(path_data, \"train_recognition.json\")) as fp:\n",
    "        obj = json.load(fp)\n",
    "    fname2text = {os.path.basename(rec[\"file\"]):rec[\"text\"] for rec in obj}\n",
    "\n",
    "    assert len(obj) == len(fname2text)\n",
    "\n",
    "    config = []\n",
    "\n",
    "    for idx, fname in enumerate(\n",
    "        os.listdir(os.path.join(path_data, \"train\"))\n",
    "    ):\n",
    "        if re.fullmatch(\n",
    "            pattern=r\"\\d+\\.box\\.\\d+\\.jpg\",\n",
    "            string=fname\n",
    "        ):\n",
    "            config.append(\n",
    "                (fname, fname2text[fname])\n",
    "            )\n",
    "    return config"
   ]
  },
  {
   "cell_type": "code",
   "execution_count": 4,
   "id": "e5925924-c312-4859-9702-a249afd6b2b7",
   "metadata": {},
   "outputs": [],
   "source": [
    "config = make_config(path_data=PATH_DATA)"
   ]
  },
  {
   "cell_type": "code",
   "execution_count": 5,
   "id": "1d8986c6-4dd4-4630-a42f-ab1fc6804072",
   "metadata": {},
   "outputs": [],
   "source": [
    "dmodule = RecDataModule(\n",
    "    data_path=os.path.join(PATH_DATA, \"train\"),\n",
    "    config=config\n",
    ")\n",
    "dmodule.setup()\n",
    "\n",
    "dtrain = dmodule.train_dataloader()\n",
    "dval = dmodule.val_dataloader()\n",
    "dtest = dmodule.test_dataloader()"
   ]
  },
  {
   "cell_type": "code",
   "execution_count": 6,
   "id": "4af897a9-61c8-4686-8290-0ccecea3169a",
   "metadata": {},
   "outputs": [],
   "source": [
    "class FeatureExtractor(torch.nn.Module):\n",
    "\n",
    "    def __init__(self, input_size=(64, 320), output_len=20):\n",
    "        super(FeatureExtractor, self).__init__()\n",
    "        h, w = input_size\n",
    "        resnet = torchvision.models.resnet18(weights=True)\n",
    "        self.cnn = torch.nn.Sequential(*list(resnet.children())[:-2])\n",
    "        self.pool = torch.nn.AvgPool2d(kernel_size=(h // 32, 1))\n",
    "        self.proj = torch.nn.Conv2d(w // 32, output_len, kernel_size=1)\n",
    "        self.num_output_features = self.cnn[-1][-1].bn2.num_features\n",
    "\n",
    "    def apply_projection(self, x):\n",
    "        \"\"\"Use convolution to increase width of a features.\n",
    "\n",
    "        Args:\n",
    "            - x: Tensor of features (shaped B x C x H x W).\n",
    "\n",
    "        Returns:\n",
    "            New tensor of features (shaped B x C x H x W').\n",
    "        \"\"\"\n",
    "        x = x.permute(0, 3, 2, 1).contiguous()\n",
    "        x = self.proj(x)\n",
    "        x = x.permute(0, 2, 3, 1).contiguous()\n",
    "\n",
    "        return x\n",
    "\n",
    "    def forward(self, x):\n",
    "        features = self.cnn(x) # conv layers\n",
    "        features = self.pool(features) # to make height == 1\n",
    "        features = self.apply_projection(features) # to increase width\n",
    "\n",
    "        return features\n",
    "\n",
    "\n",
    "class SequencePredictor(torch.nn.Module):\n",
    "\n",
    "    def __init__(self, input_size, hidden_size, num_layers, num_classes, dropout=0.3, bidirectional=False):\n",
    "        super(SequencePredictor, self).__init__()\n",
    "\n",
    "        self.num_classes = num_classes\n",
    "        self.rnn = torch.nn.GRU(input_size=input_size,\n",
    "                          hidden_size=hidden_size,\n",
    "                          num_layers=num_layers,\n",
    "                          dropout=dropout,\n",
    "                          bidirectional=bidirectional)\n",
    "\n",
    "        fc_in = hidden_size if not bidirectional else 2 * hidden_size\n",
    "        self.fc = torch.nn.Linear(in_features=fc_in,\n",
    "                            out_features=num_classes)\n",
    "\n",
    "    def _init_hidden(self, batch_size):\n",
    "        \"\"\"Initialize new tensor of zeroes for RNN hidden state.\n",
    "\n",
    "        Args:\n",
    "            - batch_size: Int size of batch\n",
    "\n",
    "        Returns:\n",
    "            Tensor of zeros shaped (num_layers * num_directions, batch, hidden_size).\n",
    "        \"\"\"\n",
    "        num_directions = 2 if self.rnn.bidirectional else 1\n",
    "        h = torch.zeros(self.rnn.num_layers * num_directions, batch_size, self.rnn.hidden_size)\n",
    "        return h\n",
    "\n",
    "    def _reshape_features(self, x):\n",
    "        \"\"\"Change dimensions of x to fit RNN expected input.\n",
    "\n",
    "        Args:\n",
    "            - x: Tensor x shaped (B x (C=1) x H x W).\n",
    "\n",
    "        Returns:\n",
    "            New tensor shaped (W x B x H).\n",
    "        \"\"\"\n",
    "        x = x.squeeze(1)\n",
    "        x = x.permute(2, 0, 1)\n",
    "        return x\n",
    "\n",
    "    def forward(self, x):\n",
    "        x = self._reshape_features(x)\n",
    "        batch_size = x.size(1)\n",
    "        h_0 = self._init_hidden(batch_size)\n",
    "        h_0 = h_0.to(x.device)\n",
    "        x, h = self.rnn(x, h_0)\n",
    "        x = self.fc(x)\n",
    "        return x\n"
   ]
  },
  {
   "cell_type": "code",
   "execution_count": 7,
   "id": "d4e3dcce-d9f2-4f09-b3b3-554fb030222a",
   "metadata": {
    "tags": []
   },
   "outputs": [],
   "source": [
    "class CRNN(pl.LightningModule):\n",
    "    ABC = \"0123456789ABCEHKMOPTXY\"\n",
    "    \n",
    "    def __init__(\n",
    "        self, \n",
    "        alphabet=ABC,\n",
    "        cnn_input_size=(64, 320),\n",
    "        cnn_output_len=20,\n",
    "        rnn_hidden_size=128,\n",
    "        rnn_num_layers=1,\n",
    "        rnn_dropout=0.0,\n",
    "        rnn_bidirectional=False,\n",
    "        lr=3e-4,\n",
    "        device='cuda' if torch.cuda.is_available() else 'cpu',\n",
    "    ):\n",
    "        super(CRNN, self).__init__()\n",
    "        self.alphabet = alphabet\n",
    "        self.features_extractor = FeatureExtractor(\n",
    "            input_size=cnn_input_size,\n",
    "            output_len=cnn_output_len\n",
    "        )\n",
    "        self.sequence_predictor = SequencePredictor(\n",
    "            input_size=self.features_extractor.num_output_features,\n",
    "            hidden_size=rnn_hidden_size, num_layers=rnn_num_layers,\n",
    "            num_classes=len(alphabet) + 1, dropout=rnn_dropout,\n",
    "            bidirectional=rnn_bidirectional\n",
    "        )\n",
    "        self.lr = lr\n",
    "    \n",
    "    @staticmethod\n",
    "    def decode_sequence(pred, abc):\n",
    "        pred = pred.permute(1, 0, 2).cpu().data.numpy()\n",
    "        outputs = []\n",
    "        for i in range(len(pred)):\n",
    "            outputs.append(pred_to_string(pred[i], abc))\n",
    "        return outputs\n",
    "\n",
    "    def forward(self, x, decode=False):\n",
    "        features = self.features_extractor(x)\n",
    "        sequence = self.sequence_predictor(features)\n",
    "        if decode:\n",
    "            sequence = self.decode_sequence(sequence, self.alphabet)\n",
    "        return sequence\n",
    "    \n",
    "    def training_step(self, batch, batch_idx):\n",
    "        images = batch[\"images\"].to(self.device)\n",
    "        seqs = batch[\"seqs\"]\n",
    "        seq_lens = batch[\"seq_lens\"]\n",
    "\n",
    "        # TODO TIP: What happens here is explained in seminar 06.\n",
    "        seqs_pred = model(images).cpu()\n",
    "        log_probs = torch.nn.functional.log_softmax(seqs_pred, dim=2)\n",
    "        seq_lens_pred = torch.Tensor([seqs_pred.size(0)] * seqs_pred.size(1)).int()\n",
    "\n",
    "        loss = torch.nn.functional.ctc_loss(\n",
    "            log_probs, seqs, seq_lens_pred, seq_lens\n",
    "        )\n",
    "        return loss\n",
    "\n",
    "    def configure_optimizers(self):\n",
    "        return torch.optim.AdamW(model.parameters(), lr=self.lr)\n"
   ]
  },
  {
   "cell_type": "code",
   "execution_count": 8,
   "id": "b2ba1dcf-fd59-4069-8b30-c835a0bff5cc",
   "metadata": {
    "tags": []
   },
   "outputs": [
    {
     "name": "stderr",
     "output_type": "stream",
     "text": [
      "/home/ubuntu/venv/lib/python3.8/site-packages/torchvision/models/_utils.py:223: UserWarning: Arguments other than a weight enum or `None` for 'weights' are deprecated since 0.13 and will be removed in 0.15. The current behavior is equivalent to passing `weights=ResNet18_Weights.IMAGENET1K_V1`. You can also use `weights=ResNet18_Weights.DEFAULT` to get the most up-to-date weights.\n",
      "  warnings.warn(msg)\n",
      "GPU available: False, used: False\n",
      "TPU available: False, using: 0 TPU cores\n",
      "IPU available: False, using: 0 IPUs\n",
      "HPU available: False, using: 0 HPUs\n",
      "Running in `fast_dev_run` mode: will run the requested loop using 3 batch(es). Logging and checkpointing is suppressed.\n",
      "/home/ubuntu/venv/lib/python3.8/site-packages/pytorch_lightning/trainer/configuration_validator.py:115: UserWarning: You passed in a `val_dataloader` but have no `validation_step`. Skipping val loop.\n",
      "  rank_zero_warn(\"You passed in a `val_dataloader` but have no `validation_step`. Skipping val loop.\")\n",
      "\n",
      "  | Name               | Type              | Params\n",
      "---------------------------------------------------------\n",
      "0 | features_extractor | FeatureExtractor  | 11.2 M\n",
      "1 | sequence_predictor | SequencePredictor | 249 K \n",
      "---------------------------------------------------------\n",
      "11.4 M    Trainable params\n",
      "0         Non-trainable params\n",
      "11.4 M    Total params\n",
      "45.705    Total estimated model params size (MB)\n",
      "/home/ubuntu/venv/lib/python3.8/site-packages/pytorch_lightning/trainer/connectors/data_connector.py:219: PossibleUserWarning: The dataloader, train_dataloader, does not have many workers which may be a bottleneck. Consider increasing the value of the `num_workers` argument` (try 4 which is the number of cpus on this machine) in the `DataLoader` init to improve performance.\n",
      "  rank_zero_warn(\n",
      "/home/ubuntu/venv/lib/python3.8/site-packages/pytorch_lightning/trainer/trainer.py:1894: PossibleUserWarning: The number of training batches (3) is smaller than the logging interval Trainer(log_every_n_steps=50). Set a lower value for log_every_n_steps if you want to see logs for the training epoch.\n",
      "  rank_zero_warn(\n"
     ]
    },
    {
     "data": {
      "application/vnd.jupyter.widget-view+json": {
       "model_id": "9e5da57982fb4674832a7febec7cdf5c",
       "version_major": 2,
       "version_minor": 0
      },
      "text/plain": [
       "Training: 0it [00:00, ?it/s]"
      ]
     },
     "metadata": {},
     "output_type": "display_data"
    },
    {
     "name": "stderr",
     "output_type": "stream",
     "text": [
      "`Trainer.fit` stopped: `max_steps=3` reached.\n"
     ]
    }
   ],
   "source": [
    "model = CRNN()\n",
    "trainer = pl.Trainer(\n",
    "    accelerator=\"cpu\", \n",
    "    max_epochs=5,\n",
    "    fast_dev_run=3,\n",
    "    limit_train_batches=2,\n",
    "    limit_val_batches=2,\n",
    "    limit_test_batches=2,\n",
    ")\n",
    "\n",
    "trainer.fit(\n",
    "    model, \n",
    "    train_dataloaders=dtrain, \n",
    "    val_dataloaders=dval,\n",
    ")"
   ]
  },
  {
   "cell_type": "code",
   "execution_count": 9,
   "id": "6f0b1594-8e38-4e96-b488-ccfab35181c4",
   "metadata": {},
   "outputs": [
    {
     "data": {
      "text/plain": [
       "torch.Size([32, 3, 64, 320])"
      ]
     },
     "execution_count": 9,
     "metadata": {},
     "output_type": "execute_result"
    }
   ],
   "source": [
    "for batch in dtrain:\n",
    "    break\n",
    "batch[\"images\"].size()"
   ]
  },
  {
   "cell_type": "code",
   "execution_count": null,
   "id": "b6b91474-cef1-48cd-9418-ba4eaac38f48",
   "metadata": {},
   "outputs": [],
   "source": [
    "x = model.features_extractor.cnn(batch[\"images\"]).permute(0, 3, 2, 1).contiguous()\n",
    "x.size()"
   ]
  },
  {
   "cell_type": "code",
   "execution_count": null,
   "id": "2f02385f-5444-4320-b415-166552b8d54c",
   "metadata": {
    "tags": []
   },
   "outputs": [],
   "source": [
    "model.features_extractor.cnn"
   ]
  },
  {
   "cell_type": "code",
   "execution_count": null,
   "id": "bab59018-66cd-46c7-a9c8-80e99dd4d847",
   "metadata": {
    "tags": []
   },
   "outputs": [],
   "source": [
    "model.features_extractor.proj(x)"
   ]
  },
  {
   "cell_type": "code",
   "execution_count": null,
   "id": "2db670e6-7820-4148-abf4-098f0b3e00aa",
   "metadata": {},
   "outputs": [],
   "source": [
    "m = torch.nn.Conv2d(16, 33, (3, 5))\n",
    "inp = torch.randn(20, 16, 50, 100)\n",
    "output = m(inp)\n",
    "output.size()"
   ]
  },
  {
   "cell_type": "code",
   "execution_count": null,
   "id": "430d97c1-fa16-4fc0-b92e-04b54a66524e",
   "metadata": {},
   "outputs": [],
   "source": [
    "images = batch[\"images\"]\n",
    "images.size()"
   ]
  },
  {
   "cell_type": "code",
   "execution_count": null,
   "id": "f12b9ed9-a9d6-446a-80f8-c59291c920a1",
   "metadata": {},
   "outputs": [],
   "source": [
    "feats1 = model.features_extractor.cnn(images)\n",
    "feats1.size()"
   ]
  },
  {
   "cell_type": "code",
   "execution_count": null,
   "id": "a2106d98-4a4a-44b7-8960-7ae67ef7ae8b",
   "metadata": {},
   "outputs": [],
   "source": [
    "feats2 = model.features_extractor.pool(feats1)\n",
    "feats2.size()"
   ]
  },
  {
   "cell_type": "code",
   "execution_count": null,
   "id": "d12ef600-171a-4b8a-819f-d9d851ab9fdc",
   "metadata": {},
   "outputs": [],
   "source": [
    "feats3 = feats2.permute(0, 3, 2, 1).contiguous()\n",
    "feats3.size()"
   ]
  },
  {
   "cell_type": "code",
   "execution_count": null,
   "id": "9b389b5b-4b3a-4b0a-b3fb-995919143aac",
   "metadata": {},
   "outputs": [],
   "source": [
    "feats4 = model.features_extractor.proj(feats3)\n",
    "feats4.size()"
   ]
  },
  {
   "cell_type": "code",
   "execution_count": null,
   "id": "d5bec70b-4dab-4162-86cb-7dc9fb1c4ad2",
   "metadata": {},
   "outputs": [],
   "source": []
  }
 ],
 "metadata": {
  "kernelspec": {
   "display_name": "Python 3 (ipykernel)",
   "language": "python",
   "name": "python3"
  },
  "language_info": {
   "codemirror_mode": {
    "name": "ipython",
    "version": 3
   },
   "file_extension": ".py",
   "mimetype": "text/x-python",
   "name": "python",
   "nbconvert_exporter": "python",
   "pygments_lexer": "ipython3",
   "version": "3.8.0"
  }
 },
 "nbformat": 4,
 "nbformat_minor": 5
}
