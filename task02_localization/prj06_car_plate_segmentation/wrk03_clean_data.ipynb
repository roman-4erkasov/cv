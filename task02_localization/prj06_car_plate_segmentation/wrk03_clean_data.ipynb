{
 "cells": [
  {
   "cell_type": "code",
   "execution_count": 17,
   "id": "92c5bc90",
   "metadata": {},
   "outputs": [],
   "source": [
    "import os\n",
    "import cv2\n",
    "from tqdm import tqdm\n",
    "\n",
    "PATH_DATA = \"/home/ubuntu/datasets/segment_car_plate/data/train\"\n"
   ]
  },
  {
   "cell_type": "code",
   "execution_count": 13,
   "id": "0bb8c7c4",
   "metadata": {},
   "outputs": [],
   "source": [
    "data_dir = PATH_DATA\n",
    "\n",
    "config = list(\n",
    "    {\n",
    "        tuple(x for x in fn.split(\".\") if x != \"mask\") \n",
    "        for fn in os.listdir(data_dir)\n",
    "    }\n",
    ")\n",
    "images = [\n",
    "    os.path.join(data_dir,f\"{name}.{ext}\") for name, ext in config\n",
    "]\n",
    "masks = [\n",
    "    os.path.join(data_dir,f\"{name}.mask.{ext}\") for name, ext in config\n",
    "]\n"
   ]
  },
  {
   "cell_type": "code",
   "execution_count": 43,
   "id": "51d0a637",
   "metadata": {},
   "outputs": [
    {
     "name": "stderr",
     "output_type": "stream",
     "text": [
      " 21%|███████████████████                                                                       | 5443/25633 [03:23<17:45, 18.95it/s][ WARN:0@31999.733] global /io/opencv/modules/imgcodecs/src/loadsave.cpp (239) findDecoder imread_('/home/ubuntu/datasets/segment_car_plate/data/train/25632.bmp'): can't open/read file: check file path/integrity\n",
      "[ WARN:0@31999.733] global /io/opencv/modules/imgcodecs/src/loadsave.cpp (239) findDecoder imread_('/home/ubuntu/datasets/segment_car_plate/data/train/25632.mask.bmp'): can't open/read file: check file path/integrity\n",
      "100%|████████████████████████████████████████████████████████████████████████████████████████▉| 25632/25633 [15:44<00:00, 23.12it/s][ WARN:0@32740.938] global /io/opencv/modules/imgcodecs/src/loadsave.cpp (239) findDecoder imread_('/home/ubuntu/datasets/segment_car_plate/data/train/10969.jpg'): can't open/read file: check file path/integrity\n",
      "100%|█████████████████████████████████████████████████████████████████████████████████████████| 25633/25633 [15:44<00:00, 27.13it/s][ WARN:0@32740.939] global /io/opencv/modules/imgcodecs/src/loadsave.cpp (239) findDecoder imread_('/home/ubuntu/datasets/segment_car_plate/data/train/10969.mask.jpg'): can't open/read file: check file path/integrity\n",
      "\n"
     ]
    }
   ],
   "source": [
    "black_list = []\n",
    "\n",
    "for name, ext in tqdm(config):\n",
    "    image_path = os.path.join(data_dir,f\"{name}.{ext}\")\n",
    "    mask_path = os.path.join(data_dir,f\"{name}.mask.{ext}\")\n",
    "    image = cv2.imread(image_path)\n",
    "    mask = cv2.imread(mask_path)\n",
    "    if image is None or mask is None:\n",
    "        black_list.append((name, ext))"
   ]
  },
  {
   "cell_type": "code",
   "execution_count": 30,
   "id": "58817a46",
   "metadata": {},
   "outputs": [
    {
     "data": {
      "text/plain": [
       "1"
      ]
     },
     "execution_count": 30,
     "metadata": {},
     "output_type": "execute_result"
    }
   ],
   "source": [
    "len(black_list)"
   ]
  },
  {
   "cell_type": "code",
   "execution_count": 31,
   "id": "8a4029a9",
   "metadata": {},
   "outputs": [
    {
     "data": {
      "text/plain": [
       "[('25632', 'bmp')]"
      ]
     },
     "execution_count": 31,
     "metadata": {},
     "output_type": "execute_result"
    }
   ],
   "source": [
    "black_list"
   ]
  },
  {
   "cell_type": "code",
   "execution_count": 35,
   "id": "6c3bbf8f",
   "metadata": {},
   "outputs": [
    {
     "data": {
      "text/plain": [
       "5446"
      ]
     },
     "execution_count": 35,
     "metadata": {},
     "output_type": "execute_result"
    }
   ],
   "source": [
    "config.index((\"25632\",\"bmp\"))"
   ]
  },
  {
   "cell_type": "code",
   "execution_count": 37,
   "id": "d355d6b0",
   "metadata": {},
   "outputs": [],
   "source": [
    "name, ext = config[5446]\n",
    "image_path = os.path.join(data_dir,f\"{name}.{ext}\")\n",
    "mask_path = os.path.join(data_dir,f\"{name}.mask.{ext}\")"
   ]
  },
  {
   "cell_type": "code",
   "execution_count": 24,
   "id": "739a017f",
   "metadata": {},
   "outputs": [
    {
     "name": "stderr",
     "output_type": "stream",
     "text": [
      "[ WARN:0@4274.955] global /io/opencv/modules/imgcodecs/src/loadsave.cpp (239) findDecoder imread_('/home/ubuntu/datasets/segment_car_plate/data/train/25632.mask.bmp'): can't open/read file: check file path/integrity\n"
     ]
    }
   ],
   "source": [
    "image = cv2.imread(image_path)\n",
    "mask = cv2.imread(mask_path)"
   ]
  },
  {
   "cell_type": "code",
   "execution_count": 26,
   "id": "4a1c8221",
   "metadata": {},
   "outputs": [
    {
     "name": "stdout",
     "output_type": "stream",
     "text": [
      "ls: cannot access '/home/ubuntu/datasets/segment_car_plate/data/train/25632.mask.bmp': No such file or directory\r\n"
     ]
    }
   ],
   "source": [
    "ls /home/ubuntu/datasets/segment_car_plate/data/train/25632.mask.bmp"
   ]
  },
  {
   "cell_type": "code",
   "execution_count": 38,
   "id": "9241694b",
   "metadata": {},
   "outputs": [
    {
     "data": {
      "text/plain": [
       "'/home/ubuntu/datasets/segment_car_plate/data/train/25632.mask.bmp'"
      ]
     },
     "execution_count": 38,
     "metadata": {},
     "output_type": "execute_result"
    }
   ],
   "source": [
    "mask_path"
   ]
  },
  {
   "cell_type": "code",
   "execution_count": 39,
   "id": "416ff8bd",
   "metadata": {},
   "outputs": [
    {
     "data": {
      "text/plain": [
       "'/home/ubuntu/datasets/segment_car_plate/data/train/25632.bmp'"
      ]
     },
     "execution_count": 39,
     "metadata": {},
     "output_type": "execute_result"
    }
   ],
   "source": [
    "image_path"
   ]
  },
  {
   "cell_type": "code",
   "execution_count": 40,
   "id": "4ee071d2",
   "metadata": {},
   "outputs": [
    {
     "name": "stdout",
     "output_type": "stream",
     "text": [
      "rm: cannot remove '/home/ubuntu/datasets/segment_car_plate/data/train/10969.jpg': No such file or directory\r\n"
     ]
    }
   ],
   "source": [
    "# rm '/home/ubuntu/datasets/segment_car_plate/data/train/10969.jpg'\n",
    "\n",
    "# rm '/home/ubuntu/datasets/segment_car_plate/data/train/10969.mask.jpg'\n"
   ]
  },
  {
   "cell_type": "code",
   "execution_count": 41,
   "id": "e4983f94",
   "metadata": {},
   "outputs": [
    {
     "name": "stdout",
     "output_type": "stream",
     "text": [
      "rm: cannot remove '/home/ubuntu/datasets/segment_car_plate/data/train/25632.mask.bmp': No such file or directory\r\n"
     ]
    }
   ],
   "source": [
    "rm '/home/ubuntu/datasets/segment_car_plate/data/train/25632.mask.bmp'"
   ]
  },
  {
   "cell_type": "code",
   "execution_count": 42,
   "id": "5076fdc9",
   "metadata": {},
   "outputs": [],
   "source": [
    "rm '/home/ubuntu/datasets/segment_car_plate/data/train/25632.bmp'"
   ]
  },
  {
   "cell_type": "code",
   "execution_count": null,
   "id": "9f707527",
   "metadata": {},
   "outputs": [],
   "source": []
  }
 ],
 "metadata": {
  "kernelspec": {
   "display_name": "Python 3 (ipykernel)",
   "language": "python",
   "name": "python3"
  },
  "language_info": {
   "codemirror_mode": {
    "name": "ipython",
    "version": 3
   },
   "file_extension": ".py",
   "mimetype": "text/x-python",
   "name": "python",
   "nbconvert_exporter": "python",
   "pygments_lexer": "ipython3",
   "version": "3.8.0"
  }
 },
 "nbformat": 4,
 "nbformat_minor": 5
}
