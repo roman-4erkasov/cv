{
 "cells": [
  {
   "cell_type": "code",
   "execution_count": 99,
   "id": "87dd31a3-7aef-4da8-abab-545b9c0014f1",
   "metadata": {},
   "outputs": [],
   "source": [
    "import os\n",
    "from typing import Optional\n",
    "import numpy as np\n",
    "import pytorch_lightning as pl\n",
    "import cv2\n",
    "from torch.utils.data import Dataset, DataLoader\n",
    "import matplotlib.pyplot as plt\n",
    "from albumentations.pytorch import ToTensorV2\n",
    "from albumentations import Compose, Resize, Normalize\n"
   ]
  },
  {
   "cell_type": "code",
   "execution_count": 3,
   "id": "5f76ae93-3704-4b89-9ae7-931d13dac3b7",
   "metadata": {},
   "outputs": [],
   "source": [
    "PATH_DATA = \"/home/ubuntu/datasets/segment_car_plate/data/train\""
   ]
  },
  {
   "cell_type": "code",
   "execution_count": 12,
   "id": "c1c28c13-0569-4971-81ce-6b7e9564d1c2",
   "metadata": {},
   "outputs": [],
   "source": [
    "images = list(\n",
    "    {\n",
    "        tuple(x for x in fn.split(\".\") if x != \"mask\") \n",
    "        for fn in os.listdir(PATH_DATA)\n",
    "    }\n",
    ")\n",
    "n_img = len(images)"
   ]
  },
  {
   "cell_type": "code",
   "execution_count": 13,
   "id": "3590506d-8e88-4e12-a956-cb25819fe0ff",
   "metadata": {},
   "outputs": [],
   "source": [
    "train, val, test = np.split(\n",
    "    images, (int(n_img*0.6), int(n_img*0.8))\n",
    ")"
   ]
  },
  {
   "cell_type": "code",
   "execution_count": 15,
   "id": "292d83c8-95b6-47b9-81b4-838f98f13608",
   "metadata": {},
   "outputs": [],
   "source": [
    "assert n_img == len(train)+len(val) + len(test)"
   ]
  },
  {
   "cell_type": "code",
   "execution_count": 63,
   "id": "93e72644-bd31-4e7c-a606-10f5f7e02512",
   "metadata": {},
   "outputs": [],
   "source": [
    "class DetectionDataset(Dataset):\n",
    "    def __init__(self, data_path, config, transforms=None,):\n",
    "        super(DetectionDataset, self).__init__()\n",
    "        self.data_path = data_path\n",
    "        self.transforms = transforms\n",
    "        self.images = [\n",
    "            os.path.join(self.data_path,f\"{name}.{ext}\") for name, ext in config\n",
    "        ]\n",
    "        self.masks = [\n",
    "            os.path.join(self.data_path,f\"{name}.mask.{ext}\") for name, ext in config\n",
    "        ]\n",
    "\n",
    "    def __len__(self):\n",
    "        return len(self.images)\n",
    "\n",
    "    def __getitem__(self, idx):\n",
    "        image = cv2.imread(self.images[idx]).astype(np.float32) / 255.\n",
    "        image = cv2.cvtColor(image, cv2.COLOR_BGR2RGB)\n",
    "        mask = cv2.imread(self.masks[idx], cv2.IMREAD_GRAYSCALE).astype(np.float32) / 255.\n",
    "        item = dict(image=image, mask=mask)\n",
    "\n",
    "        if self.transforms is not None:\n",
    "            item = self.transforms(**item)\n",
    "\n",
    "        item[\"mask\"] = item[\"mask\"][None, :, :]\n",
    "\n",
    "        return item"
   ]
  },
  {
   "cell_type": "code",
   "execution_count": 120,
   "id": "a27c2221-0244-4fe7-a5de-a168573a8d05",
   "metadata": {},
   "outputs": [],
   "source": [
    "class DataModule(pl.LightningDataModule):\n",
    "    def __init__(\n",
    "        self,\n",
    "        data_dir: str,\n",
    "        split_proportions = (0.6, 0.8),\n",
    "        batch_size = 32,\n",
    "        image_size=256,\n",
    "        seed = None,\n",
    "    ):\n",
    "        self.data_dir = data_dir\n",
    "        self.split_proportions = split_proportions\n",
    "        self.images = list(\n",
    "            {\n",
    "                tuple(x for x in fn.split(\".\") if x != \"mask\") \n",
    "                for fn in os.listdir(data_dir)\n",
    "            }\n",
    "        )\n",
    "        self.n_img = len(self.images)\n",
    "        self.batch_size = batch_size\n",
    "        self.image_size = image_size\n",
    "        self.transforms = self.get_transforms(image_size=self.image_size)\n",
    "        \n",
    "    @staticmethod\n",
    "    def get_transforms(image_size: int = 256):\n",
    "        return Compose([\n",
    "            Normalize(mean=(0.5, 0.5, 0.5), std=(0.25, 0.25, 0.25), max_pixel_value=1.),\n",
    "            Resize(height=image_size, width=image_size, ),\n",
    "            ToTensorV2(),\n",
    "        ])\n",
    "\n",
    "    def setup(self, stage: Optional[str] = None):\n",
    "        if stage == \"3\" or stage is None:\n",
    "            print(self.images[:5])\n",
    "            print(tuple(int(n_img*x) for x in self.split_proportions))\n",
    "            self.train, self.val, self.test = np.split(\n",
    "                self.images, \n",
    "                tuple(int(n_img*x) for x in self.split_proportions)\n",
    "            )\n",
    "        elif stage == \"2\":\n",
    "            self.train, self.val = np.split(\n",
    "                self.images, tuple(int(n_img*self.split_proportions[0]),)\n",
    "            )\n",
    "        elif stage == \"1\":\n",
    "            self.train = images        \n",
    "    \n",
    "    def train_dataloader(self):\n",
    "        # train_transforms = get_train_transforms(256)\n",
    "        ds = DetectionDataset(data_path=self.data_dir, config=self.train, transforms=self.transforms)\n",
    "        return DataLoader(ds, batch_size=self.batch_size)\n",
    "\n",
    "    def val_dataloader(self):\n",
    "        ds = DetectionDataset(data_path=self.data_dir, config=self.val)\n",
    "        return DataLoader(ds, batch_size=self.batch_size)\n",
    "\n",
    "    def test_dataloader(self):\n",
    "        ds = DetectionDataset(data_path=self.data_dir, config=self.test)\n",
    "        return DataLoader(ds, batch_size=self.batch_size)\n"
   ]
  },
  {
   "cell_type": "code",
   "execution_count": 121,
   "id": "dd51aee9-d0cd-48fd-adc2-3a8da150f17c",
   "metadata": {},
   "outputs": [],
   "source": [
    "data = DataModule(data_dir=PATH_DATA)\n",
    "data.setup()\n",
    "\n",
    "dataloader = data.train_dataloader()"
   ]
  },
  {
   "cell_type": "code",
   "execution_count": null,
   "id": "3efdd885-ea94-49d8-8360-b1715fcf2552",
   "metadata": {},
   "outputs": [],
   "source": []
  },
  {
   "cell_type": "code",
   "execution_count": 123,
   "id": "1f960b9c-8734-4398-a20a-f85d4acffb6b",
   "metadata": {
    "tags": []
   },
   "outputs": [
    {
     "name": "stderr",
     "output_type": "stream",
     "text": [
      "Clipping input data to the valid range for imshow with RGB data ([0..1] for floats or [0..255] for integers).\n"
     ]
    },
    {
     "data": {
      "text/plain": [
       "<matplotlib.image.AxesImage at 0x7f75d3406b50>"
      ]
     },
     "execution_count": 123,
     "metadata": {},
     "output_type": "execute_result"
    },
    {
     "data": {
      "image/png": "[encoded data removed]",
      "text/plain": [
       "<Figure size 432x288 with 1 Axes>"
      ]
     },
     "metadata": {
      "needs_background": "light"
     },
     "output_type": "display_data"
    }
   ],
   "source": [
    "for item in dataloader:\n",
    "    break\n",
    "plt.imshow(\n",
    "    np.transpose(item[\"image\"][0], (1, 2, 0))\n",
    ")"
   ]
  },
  {
   "cell_type": "code",
   "execution_count": 81,
   "id": "264838f1-f754-40ad-a236-ddafa4f82b30",
   "metadata": {},
   "outputs": [],
   "source": [
    "ds = DetectionDataset(data_path=PATH_DATA, config=images[:5])\n",
    "item = ds[0]\n",
    "plt.imshow(item[\"image\"])"
   ]
  },
  {
   "cell_type": "code",
   "execution_count": 69,
   "id": "6515975e-d1ac-4481-94de-11c7b31488d5",
   "metadata": {},
   "outputs": [],
   "source": [
    "import albumentations as A\n",
    "import cv2\n",
    "import numpy as np\n",
    "from albumentations.pytorch import ToTensorV2, Compose, Resize, Normalize\n",
    "\n",
    "\n",
    "# class Compose(object):\n",
    "\n",
    "#     def __init__(self, transforms):\n",
    "#         self.transforms = transforms\n",
    "\n",
    "#     def __call__(self, image, mask):\n",
    "#         for t in self.transforms:\n",
    "#             image, mask = t(image, mask)\n",
    "#         return image, mask\n",
    "\n",
    "\n",
    "# class Resize(object):\n",
    "#     def __init__(self, size):\n",
    "#         self.size = size\n",
    "\n",
    "#     def __call__(self, image, mask, force_apply=False):\n",
    "#         image_, mask_ = image.copy(), mask.copy()\n",
    "#         if image_.shape[0] != self.size[1] or image_.shape[1] != self.size[0]:\n",
    "#             image_ = cv2.resize(image_, self.size)\n",
    "#             mask_ = cv2.resize(mask_, self.size)\n",
    "#         return dict(image=image_, mask=mask_)\n",
    "\n",
    "\n",
    "# class Normalize(object):\n",
    "#     def __init__(self, mean=(0.5, 0.5, 0.5), std=(0.25, 0.25, 0.25)):\n",
    "#         self.mean = np.asarray(mean).reshape((1, 1, 3)).astype(np.float32)\n",
    "#         self.std = np.asarray(std).reshape((1, 1, 3)).astype(np.float32)\n",
    "\n",
    "#     def __call__(self, image, mask):\n",
    "#         image = (image - self.mean) / self.std\n",
    "#         return image, mask\n",
    "\n",
    "\n",
    "# TODO TIP: Is default image size (256) enough for segmentation of car license plates?\n",
    "def get_train_transforms(image_size):\n",
    "    return A.Compose([\n",
    "        A.Normalize(mean=(0.5, 0.5, 0.5), std=(0.25, 0.25, 0.25), max_pixel_value=1.),\n",
    "        Resize(size=(image_size, image_size)),\n",
    "        ToTensorV2(),\n",
    "    ])"
   ]
  },
  {
   "cell_type": "code",
   "execution_count": 71,
   "id": "a31f4064-136f-4f66-a6a3-90e3c4434df4",
   "metadata": {},
   "outputs": [],
   "source": [
    "train_transforms = get_train_transforms(256)"
   ]
  },
  {
   "cell_type": "code",
   "execution_count": null,
   "id": "0b797dc1-c85b-4e55-ac6d-70e8744fef36",
   "metadata": {},
   "outputs": [],
   "source": []
  }
 ],
 "metadata": {
  "kernelspec": {
   "display_name": "Python 3 (ipykernel)",
   "language": "python",
   "name": "python3"
  },
  "language_info": {
   "codemirror_mode": {
    "name": "ipython",
    "version": 3
   },
   "file_extension": ".py",
   "mimetype": "text/x-python",
   "name": "python",
   "nbconvert_exporter": "python",
   "pygments_lexer": "ipython3",
   "version": "3.8.0"
  }
 },
 "nbformat": 4,
 "nbformat_minor": 5
}
