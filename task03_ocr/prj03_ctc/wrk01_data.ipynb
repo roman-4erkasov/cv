{
 "cells": [
  {
   "cell_type": "code",
   "execution_count": 31,
   "id": "888f9b43",
   "metadata": {},
   "outputs": [],
   "source": [
    "import os\n",
    "import re\n",
    "import json\n",
    "from typing import Optional\n",
    "import numpy as np\n",
    "import pytorch_lightning as pl\n",
    "import cv2\n",
    "from torch.utils.data import Dataset, DataLoader\n",
    "import matplotlib.pyplot as plt\n",
    "from albumentations.pytorch import ToTensorV2\n",
    "from albumentations import Compose, Resize, Normalize\n",
    "\n",
    "PATH_DATA = \"/home/ubuntu/datasets/segment_car_plate/data/\""
   ]
  },
  {
   "cell_type": "code",
   "execution_count": 32,
   "id": "f1feb585-7cee-42e4-b443-1f29bca47c88",
   "metadata": {},
   "outputs": [],
   "source": [
    "with open(os.path.join(PATH_DATA, \"train_recognition.json\")) as fp:\n",
    "    obj = json.load(fp)\n",
    "fname2text = {os.path.basename(rec[\"file\"]):rec[\"text\"] for rec in obj}\n",
    "\n",
    "assert len(obj) == len(fname2text)"
   ]
  },
  {
   "cell_type": "code",
   "execution_count": 33,
   "id": "552b180f-a9e8-44a0-918d-2e0fa01a4dd5",
   "metadata": {
    "tags": []
   },
   "outputs": [],
   "source": [
    "config = []\n",
    "\n",
    "for idx, fname in enumerate(\n",
    "    os.listdir(os.path.join(PATH_DATA,\"train\"))\n",
    "):\n",
    "    if re.fullmatch(\n",
    "        pattern=r\"\\d+\\.box\\.\\d+\\.jpg\",\n",
    "        string=fname\n",
    "    ):\n",
    "        config.append(\n",
    "            (fname, fname2text[fname])\n",
    "        )\n"
   ]
  },
  {
   "cell_type": "code",
   "execution_count": 34,
   "id": "ebbf1a83",
   "metadata": {},
   "outputs": [],
   "source": [
    "class RecDataset(Dataset):\n",
    "    def __init__(self, data_dir, config, abc, split, transforms=None):\n",
    "        super(RecDataset, self).__init__()\n",
    "        self.data_dir = data_dir\n",
    "        self.abc = abc\n",
    "        self.transforms = transforms\n",
    "        self.split = split\n",
    "        self.config = config\n",
    "\n",
    "    def __len__(self):\n",
    "        return len(self.images)\n",
    "\n",
    "    def text_to_seq(self, text):\n",
    "        seq = [self.abc.find(c) + 1 for c in text]\n",
    "        return seq\n",
    "    \n",
    "    def __getitem__(self, idx):\n",
    "        fname, text = self.config[idx]\n",
    "        fpath = os.path.join(self.data_dir, fname)\n",
    "        image = cv2.imread(fpath).astype(np.float32) / 255.\n",
    "        image = cv2.cvtColor(image, cv2.COLOR_BGR2RGB)\n",
    "        seq = self.text_to_seq(text)\n",
    "        seq_len = len(seq)\n",
    "        item = dict(image=image, seq=seq, seq_len=seq_len, text=text)\n",
    "        if self.transforms is not None:\n",
    "            item = self.transforms(item)    \n",
    "        return item\n",
    "\n",
    "    @staticmethod\n",
    "    def collate_fn(batch):\n",
    "        images = list()\n",
    "        seqs = list()\n",
    "        seq_lens = list()\n",
    "        for sample in batch:\n",
    "            images.append(torch.from_numpy(sample[\"image\"].transpose((2, 0, 1))).float())\n",
    "            seqs.extend(sample[\"seq\"])\n",
    "            seq_lens.append(sample[\"seq_len\"])\n",
    "        images = torch.stack(images)\n",
    "        seqs = torch.Tensor(seqs).int()\n",
    "        seq_lens = torch.Tensor(seq_lens).int()\n",
    "        batch = {\"images\": images, \"seqs\": seqs, \"seq_lens\": seq_lens}\n",
    "        return batch\n"
   ]
  },
  {
   "cell_type": "code",
   "execution_count": 41,
   "id": "4c9f68d2",
   "metadata": {},
   "outputs": [
    {
     "name": "stdout",
     "output_type": "stream",
     "text": [
      "T226EX125\n"
     ]
    },
    {
     "data": {
      "text/plain": [
       "<matplotlib.image.AxesImage at 0x7ff0be4393d0>"
      ]
     },
     "execution_count": 41,
     "metadata": {},
     "output_type": "execute_result"
    },
    {
     "data": {
      "image/png": "[encoded data removed]",
      "text/plain": [
       "<Figure size 432x288 with 1 Axes>"
      ]
     },
     "metadata": {
      "needs_background": "light"
     },
     "output_type": "display_data"
    }
   ],
   "source": [
    "abc = \"0123456789ABCEHKMOPTXY\"\n",
    "mapping = {\n",
    "    'А': 'A',\n",
    "    'В': 'B',\n",
    "    'С': 'C',\n",
    "    'Е': 'E',\n",
    "    'Н': 'H',\n",
    "    'К': 'K',\n",
    "    'М': 'M',\n",
    "    'О': 'O',\n",
    "    'Р': 'P',\n",
    "    'Т': 'T',\n",
    "    'Х': 'X',\n",
    "    'У': 'Y',\n",
    "}\n",
    "ds = RecDataset(\n",
    "    data_dir=os.path.join(PATH_DATA,\"train\"), config=config, abc=abc, split=\"train\"\n",
    ")\n",
    "item = ds[5]\n",
    "print(item[\"text\"])\n",
    "plt.imshow(item[\"image\"])"
   ]
  },
  {
   "cell_type": "code",
   "execution_count": null,
   "id": "94750ab9-b638-4dea-80f5-012c5a1e62b4",
   "metadata": {},
   "outputs": [],
   "source": []
  }
 ],
 "metadata": {
  "kernelspec": {
   "display_name": "Python 3 (ipykernel)",
   "language": "python",
   "name": "python3"
  },
  "language_info": {
   "codemirror_mode": {
    "name": "ipython",
    "version": 3
   },
   "file_extension": ".py",
   "mimetype": "text/x-python",
   "name": "python",
   "nbconvert_exporter": "python",
   "pygments_lexer": "ipython3",
   "version": "3.8.0"
  }
 },
 "nbformat": 4,
 "nbformat_minor": 5
}
