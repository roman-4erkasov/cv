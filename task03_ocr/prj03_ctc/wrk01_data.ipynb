{
 "cells": [
  {
   "cell_type": "code",
   "execution_count": 9,
   "id": "888f9b43",
   "metadata": {},
   "outputs": [],
   "source": [
    "import os\n",
    "import json\n",
    "from typing import Optional\n",
    "import numpy as np\n",
    "import pytorch_lightning as pl\n",
    "import cv2\n",
    "from torch.utils.data import Dataset, DataLoader\n",
    "# import matplotlib.pyplot as plt\n",
    "from albumentations.pytorch import ToTensorV2\n",
    "from albumentations import Compose, Resize, Normalize\n",
    "\n",
    "PATH_DATA = \"/home/ubuntu/datasets/segment_car_plate/data/\""
   ]
  },
  {
   "cell_type": "code",
   "execution_count": 10,
   "id": "faa7b6f1",
   "metadata": {},
   "outputs": [],
   "source": [
    "with open(os.path.join(PATH_DATA, \"train_recognition.json\")) as fp:\n",
    "    obj = json.load(fp)"
   ]
  },
  {
   "cell_type": "code",
   "execution_count": 14,
   "id": "982bb4f3",
   "metadata": {},
   "outputs": [
    {
     "data": {
      "text/plain": [
       "('train/0.box.00.jpg', 'B060BB125')"
      ]
     },
     "execution_count": 14,
     "metadata": {},
     "output_type": "execute_result"
    }
   ],
   "source": [
    "obj[0][\"file\"], obj[0][\"text\"]"
   ]
  },
  {
   "cell_type": "code",
   "execution_count": 17,
   "id": "9814aabf",
   "metadata": {},
   "outputs": [],
   "source": [
    "fname2text = {os.path.basename(rec[\"file\"]):rec[\"text\"] for rec in obj}"
   ]
  },
  {
   "cell_type": "code",
   "execution_count": 18,
   "id": "9236f31c",
   "metadata": {},
   "outputs": [
    {
     "data": {
      "text/plain": [
       "True"
      ]
     },
     "execution_count": 18,
     "metadata": {},
     "output_type": "execute_result"
    }
   ],
   "source": [
    "len(obj) == len(fname2text)"
   ]
  },
  {
   "cell_type": "code",
   "execution_count": 6,
   "id": "ebbf1a83",
   "metadata": {},
   "outputs": [],
   "source": [
    "class RecDataset(Dataset):\n",
    "    def __init__(self, data_dir, config):\n",
    "        super(RecDataset, self).__init__()\n",
    "        self.data_dir = data_dir\n",
    "        self.abc = abc\n",
    "        self.transforms = transforms\n",
    "        self.split = split\n",
    "        self.config = config\n",
    "        self.images = [\n",
    "            os.path.join(self.data_path,f\"{name}.{ext}\") for name, ext in config\n",
    "        ]\n",
    "        self.masks = [\n",
    "            os.path.join(self.data_path,f\"{name}.box.{ext}\") for name, ext in config\n",
    "        ]\n",
    "    def \n",
    "#     def "
   ]
  },
  {
   "cell_type": "code",
   "execution_count": null,
   "id": "4c9f68d2",
   "metadata": {},
   "outputs": [],
   "source": []
  }
 ],
 "metadata": {
  "kernelspec": {
   "display_name": "Python 3 (ipykernel)",
   "language": "python",
   "name": "python3"
  },
  "language_info": {
   "codemirror_mode": {
    "name": "ipython",
    "version": 3
   },
   "file_extension": ".py",
   "mimetype": "text/x-python",
   "name": "python",
   "nbconvert_exporter": "python",
   "pygments_lexer": "ipython3",
   "version": "3.8.0"
  }
 },
 "nbformat": 4,
 "nbformat_minor": 5
}
