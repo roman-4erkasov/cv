{
 "cells": [
  {
   "cell_type": "code",
   "execution_count": 9,
   "id": "52bf09c8-9fa1-48d0-924c-4af7a3edaf47",
   "metadata": {},
   "outputs": [],
   "source": [
    "import os, json, re\n",
    "import torch\n",
    "from data import RecDataModule\n",
    "import pytorch_lightning as pl\n",
    "\n",
    "PATH_DATA = \"/home/ubuntu/datasets/segment_car_plate/data/\"\n"
   ]
  },
  {
   "cell_type": "code",
   "execution_count": 10,
   "id": "0e12ecea-0209-4d8a-bd88-62ffada31cea",
   "metadata": {},
   "outputs": [],
   "source": [
    "with open(os.path.join(PATH_DATA, \"train_recognition.json\")) as fp:\n",
    "    obj = json.load(fp)\n",
    "fname2text = {os.path.basename(rec[\"file\"]):rec[\"text\"] for rec in obj}\n",
    "\n",
    "assert len(obj) == len(fname2text)\n",
    "\n",
    "config = []\n",
    "\n",
    "for idx, fname in enumerate(\n",
    "    os.listdir(os.path.join(PATH_DATA,\"train\"))\n",
    "):\n",
    "    if re.fullmatch(\n",
    "        pattern=r\"\\d+\\.box\\.\\d+\\.jpg\",\n",
    "        string=fname\n",
    "    ):\n",
    "        config.append(\n",
    "            (fname, fname2text[fname])\n",
    "        )"
   ]
  },
  {
   "cell_type": "code",
   "execution_count": 12,
   "id": "1d8986c6-4dd4-4630-a42f-ab1fc6804072",
   "metadata": {},
   "outputs": [],
   "source": [
    "dmodule = RecDataModule(data_path=PATH_DATA, config=config)\n",
    "dmodule.setup()\n",
    "\n",
    "dtrain = dmodule.train_dataloader()\n",
    "dval = dmodule.val_dataloader()\n",
    "dtest = dmodule.test_dataloader()"
   ]
  },
  {
   "cell_type": "code",
   "execution_count": null,
   "id": "f0925476-10c3-43e1-9730-6d35afa58682",
   "metadata": {},
   "outputs": [],
   "source": [
    "class Model(pl.LightningModule):\n",
    "    pass"
   ]
  }
 ],
 "metadata": {
  "kernelspec": {
   "display_name": "Python 3 (ipykernel)",
   "language": "python",
   "name": "python3"
  },
  "language_info": {
   "codemirror_mode": {
    "name": "ipython",
    "version": 3
   },
   "file_extension": ".py",
   "mimetype": "text/x-python",
   "name": "python",
   "nbconvert_exporter": "python",
   "pygments_lexer": "ipython3",
   "version": "3.8.0"
  }
 },
 "nbformat": 4,
 "nbformat_minor": 5
}
