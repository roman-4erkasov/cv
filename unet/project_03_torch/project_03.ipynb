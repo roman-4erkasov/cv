{
 "cells": [
  {
   "cell_type": "markdown",
   "id": "dc647a3a-c9b8-401d-adb4-f59fdb5b6f49",
   "metadata": {},
   "source": [
    "https://www.kaggle.com/datasets/seesee/siim-train-test/download"
   ]
  },
  {
   "cell_type": "code",
   "execution_count": 1,
   "id": "e22a116b-c7c5-43af-8135-d2fddd222ba6",
   "metadata": {
    "tags": []
   },
   "outputs": [
    {
     "data": {
      "text/plain": [
       "<module 'config' from '/home/ubuntu/unet-tf/project_03/config.py'>"
      ]
     },
     "execution_count": 1,
     "metadata": {},
     "output_type": "execute_result"
    }
   ],
   "source": [
    "import torch\n",
    "import os\n",
    "import cv2\n",
    "\n",
    "from sklearn.model_selection import train_test_split\n",
    "from torchvision import transforms\n",
    "from imutils import paths\n",
    "from tqdm import tqdm\n",
    "import matplotlib.pyplot as plt\n",
    "import time\n",
    "import numpy as np\n",
    "from torchvision.utils import draw_bounding_boxes, draw_segmentation_masks\n",
    "import torchvision\n",
    "import config\n",
    "\n",
    "from importlib import reload\n",
    "reload(config)\n"
   ]
  },
  {
   "cell_type": "code",
   "execution_count": 3,
   "id": "8a070dd6-5843-4333-97d4-6f359b71b260",
   "metadata": {},
   "outputs": [
    {
     "data": {
      "text/plain": [
       "\u001b[0;31mSignature:\u001b[0m\n",
       "\u001b[0mplt\u001b[0m\u001b[0;34m.\u001b[0m\u001b[0msubplots\u001b[0m\u001b[0;34m(\u001b[0m\u001b[0;34m\u001b[0m\n",
       "\u001b[0;34m\u001b[0m    \u001b[0mnrows\u001b[0m\u001b[0;34m=\u001b[0m\u001b[0;36m1\u001b[0m\u001b[0;34m,\u001b[0m\u001b[0;34m\u001b[0m\n",
       "\u001b[0;34m\u001b[0m    \u001b[0mncols\u001b[0m\u001b[0;34m=\u001b[0m\u001b[0;36m1\u001b[0m\u001b[0;34m,\u001b[0m\u001b[0;34m\u001b[0m\n",
       "\u001b[0;34m\u001b[0m    \u001b[0;34m*\u001b[0m\u001b[0;34m,\u001b[0m\u001b[0;34m\u001b[0m\n",
       "\u001b[0;34m\u001b[0m    \u001b[0msharex\u001b[0m\u001b[0;34m=\u001b[0m\u001b[0;32mFalse\u001b[0m\u001b[0;34m,\u001b[0m\u001b[0;34m\u001b[0m\n",
       "\u001b[0;34m\u001b[0m    \u001b[0msharey\u001b[0m\u001b[0;34m=\u001b[0m\u001b[0;32mFalse\u001b[0m\u001b[0;34m,\u001b[0m\u001b[0;34m\u001b[0m\n",
       "\u001b[0;34m\u001b[0m    \u001b[0msqueeze\u001b[0m\u001b[0;34m=\u001b[0m\u001b[0;32mTrue\u001b[0m\u001b[0;34m,\u001b[0m\u001b[0;34m\u001b[0m\n",
       "\u001b[0;34m\u001b[0m    \u001b[0msubplot_kw\u001b[0m\u001b[0;34m=\u001b[0m\u001b[0;32mNone\u001b[0m\u001b[0;34m,\u001b[0m\u001b[0;34m\u001b[0m\n",
       "\u001b[0;34m\u001b[0m    \u001b[0mgridspec_kw\u001b[0m\u001b[0;34m=\u001b[0m\u001b[0;32mNone\u001b[0m\u001b[0;34m,\u001b[0m\u001b[0;34m\u001b[0m\n",
       "\u001b[0;34m\u001b[0m    \u001b[0;34m**\u001b[0m\u001b[0mfig_kw\u001b[0m\u001b[0;34m,\u001b[0m\u001b[0;34m\u001b[0m\n",
       "\u001b[0;34m\u001b[0m\u001b[0;34m)\u001b[0m\u001b[0;34m\u001b[0m\u001b[0;34m\u001b[0m\u001b[0m\n",
       "\u001b[0;31mDocstring:\u001b[0m\n",
       "Create a figure and a set of subplots.\n",
       "\n",
       "This utility wrapper makes it convenient to create common layouts of\n",
       "subplots, including the enclosing figure object, in a single call.\n",
       "\n",
       "Parameters\n",
       "----------\n",
       "nrows, ncols : int, default: 1\n",
       "    Number of rows/columns of the subplot grid.\n",
       "\n",
       "sharex, sharey : bool or {'none', 'all', 'row', 'col'}, default: False\n",
       "    Controls sharing of properties among x (*sharex*) or y (*sharey*)\n",
       "    axes:\n",
       "\n",
       "    - True or 'all': x- or y-axis will be shared among all subplots.\n",
       "    - False or 'none': each subplot x- or y-axis will be independent.\n",
       "    - 'row': each subplot row will share an x- or y-axis.\n",
       "    - 'col': each subplot column will share an x- or y-axis.\n",
       "\n",
       "    When subplots have a shared x-axis along a column, only the x tick\n",
       "    labels of the bottom subplot are created. Similarly, when subplots\n",
       "    have a shared y-axis along a row, only the y tick labels of the first\n",
       "    column subplot are created. To later turn other subplots' ticklabels\n",
       "    on, use `~matplotlib.axes.Axes.tick_params`.\n",
       "\n",
       "    When subplots have a shared axis that has units, calling\n",
       "    `~matplotlib.axis.Axis.set_units` will update each axis with the\n",
       "    new units.\n",
       "\n",
       "squeeze : bool, default: True\n",
       "    - If True, extra dimensions are squeezed out from the returned\n",
       "      array of `~matplotlib.axes.Axes`:\n",
       "\n",
       "      - if only one subplot is constructed (nrows=ncols=1), the\n",
       "        resulting single Axes object is returned as a scalar.\n",
       "      - for Nx1 or 1xM subplots, the returned object is a 1D numpy\n",
       "        object array of Axes objects.\n",
       "      - for NxM, subplots with N>1 and M>1 are returned as a 2D array.\n",
       "\n",
       "    - If False, no squeezing at all is done: the returned Axes object is\n",
       "      always a 2D array containing Axes instances, even if it ends up\n",
       "      being 1x1.\n",
       "\n",
       "subplot_kw : dict, optional\n",
       "    Dict with keywords passed to the\n",
       "    `~matplotlib.figure.Figure.add_subplot` call used to create each\n",
       "    subplot.\n",
       "\n",
       "gridspec_kw : dict, optional\n",
       "    Dict with keywords passed to the `~matplotlib.gridspec.GridSpec`\n",
       "    constructor used to create the grid the subplots are placed on.\n",
       "\n",
       "**fig_kw\n",
       "    All additional keyword arguments are passed to the\n",
       "    `.pyplot.figure` call.\n",
       "\n",
       "Returns\n",
       "-------\n",
       "fig : `~.figure.Figure`\n",
       "\n",
       "ax : `.axes.Axes` or array of Axes\n",
       "    *ax* can be either a single `~matplotlib.axes.Axes` object or an\n",
       "    array of Axes objects if more than one subplot was created.  The\n",
       "    dimensions of the resulting array can be controlled with the squeeze\n",
       "    keyword, see above.\n",
       "\n",
       "    Typical idioms for handling the return value are::\n",
       "\n",
       "        # using the variable ax for single a Axes\n",
       "        fig, ax = plt.subplots()\n",
       "\n",
       "        # using the variable axs for multiple Axes\n",
       "        fig, axs = plt.subplots(2, 2)\n",
       "\n",
       "        # using tuple unpacking for multiple Axes\n",
       "        fig, (ax1, ax2) = plt.subplots(1, 2)\n",
       "        fig, ((ax1, ax2), (ax3, ax4)) = plt.subplots(2, 2)\n",
       "\n",
       "    The names ``ax`` and pluralized ``axs`` are preferred over ``axes``\n",
       "    because for the latter it's not clear if it refers to a single\n",
       "    `~.axes.Axes` instance or a collection of these.\n",
       "\n",
       "See Also\n",
       "--------\n",
       ".pyplot.figure\n",
       ".pyplot.subplot\n",
       ".pyplot.axes\n",
       ".Figure.subplots\n",
       ".Figure.add_subplot\n",
       "\n",
       "Examples\n",
       "--------\n",
       "::\n",
       "\n",
       "    # First create some toy data:\n",
       "    x = np.linspace(0, 2*np.pi, 400)\n",
       "    y = np.sin(x**2)\n",
       "\n",
       "    # Create just a figure and only one subplot\n",
       "    fig, ax = plt.subplots()\n",
       "    ax.plot(x, y)\n",
       "    ax.set_title('Simple plot')\n",
       "\n",
       "    # Create two subplots and unpack the output array immediately\n",
       "    f, (ax1, ax2) = plt.subplots(1, 2, sharey=True)\n",
       "    ax1.plot(x, y)\n",
       "    ax1.set_title('Sharing Y axis')\n",
       "    ax2.scatter(x, y)\n",
       "\n",
       "    # Create four polar axes and access them through the returned array\n",
       "    fig, axs = plt.subplots(2, 2, subplot_kw=dict(projection=\"polar\"))\n",
       "    axs[0, 0].plot(x, y)\n",
       "    axs[1, 1].scatter(x, y)\n",
       "\n",
       "    # Share a X axis with each column of subplots\n",
       "    plt.subplots(2, 2, sharex='col')\n",
       "\n",
       "    # Share a Y axis with each row of subplots\n",
       "    plt.subplots(2, 2, sharey='row')\n",
       "\n",
       "    # Share both X and Y axes with all subplots\n",
       "    plt.subplots(2, 2, sharex='all', sharey='all')\n",
       "\n",
       "    # Note that this is the same as\n",
       "    plt.subplots(2, 2, sharex=True, sharey=True)\n",
       "\n",
       "    # Create figure number 10 with a single subplot\n",
       "    # and clears it if it already exists.\n",
       "    fig, ax = plt.subplots(num=10, clear=True)\n",
       "\u001b[0;31mFile:\u001b[0m      /home/ubuntu/venv/lib/python3.8/site-packages/matplotlib/pyplot.py\n",
       "\u001b[0;31mType:\u001b[0m      function\n"
      ]
     },
     "metadata": {},
     "output_type": "display_data"
    }
   ],
   "source": [
    "plt.subplots?"
   ]
  },
  {
   "cell_type": "code",
   "execution_count": 10,
   "id": "c5e174cf-4255-4516-96a5-93dd744dfd02",
   "metadata": {},
   "outputs": [],
   "source": [
    "class Dataset(torch.utils.data.Dataset):\n",
    "    def __init__(self, image_paths, mask_paths, transforms):\n",
    "        self.image_paths = image_paths\n",
    "        self.mask_paths = mask_paths\n",
    "        self.transforms = transforms\n",
    "\n",
    "    def __len__(self):\n",
    "        return len(self.image_paths)\n",
    "\n",
    "    def __getitem__(self, idx):\n",
    "        image_path = self.image_paths[idx]\n",
    "        image = cv2.imread(image_path)\n",
    "        image = cv2.cvtColor(image, cv2.COLOR_BGR2RGB) #BGR->RGB\n",
    "        mask = cv2.imread(self.mask_paths[idx], cv2.IMREAD_GRAYSCALE)\n",
    "        if self.transforms is not None:\n",
    "            image, mask = self.transforms(image), self.transforms(mask)\n",
    "        return image, mask"
   ]
  },
  {
   "cell_type": "code",
   "execution_count": 11,
   "id": "d26a04cc-2662-45fa-b37c-d0400f6fa2bd",
   "metadata": {},
   "outputs": [],
   "source": [
    "class Block(torch.nn.Module):\n",
    "    \"\"\"Conv->ReLU->Conv->ReLU\"\"\"\n",
    "    def __init__(self, in_channels, out_channels):\n",
    "        super().__init__()\n",
    "        self.conv1 = torch.nn.Conv2d(in_channels, out_channels, 3)\n",
    "        self.relu = torch.nn.ReLU()\n",
    "        self.conv2 = torch.nn.Conv2d(out_channels, out_channels, 3)\n",
    "\n",
    "    def forward(self, x):\n",
    "        return self.relu(self.conv2(self.relu(self.conv1(x))))\n"
   ]
  },
  {
   "cell_type": "code",
   "execution_count": 12,
   "id": "ae1aa063-8fa1-4465-a37c-6ac1def3f995",
   "metadata": {},
   "outputs": [],
   "source": [
    "class Encoder(torch.nn.Module):\n",
    "    def __init__(self, channels=(3, 16, 32, 64)):\n",
    "        super().__init__()\n",
    "        self.enc_blocks = torch.nn.ModuleList(\n",
    "            [Block(channels[i], channels[i + 1]) for i in range(len(channels) - 1)]\n",
    "        )\n",
    "        self.pool = torch.nn.MaxPool2d(2)\n",
    "\n",
    "    def forward(self, x):\n",
    "        outputs = [] # intermediate outputs\n",
    "        for block in self.enc_blocks:\n",
    "            x = block(x)\n",
    "            outputs.append(x)\n",
    "            x = self.pool(x)\n",
    "        return outputs\n"
   ]
  },
  {
   "cell_type": "code",
   "execution_count": 13,
   "id": "be7c9095-0c01-4952-ac05-414504456f9e",
   "metadata": {},
   "outputs": [],
   "source": [
    "class Decoder(torch.nn.Module):\n",
    "    def __init__(self, channels=(64, 32, 16)):\n",
    "        super().__init__()\n",
    "        self.channels = channels\n",
    "        self.upconvs = torch.nn.ModuleList(\n",
    "            [\n",
    "                torch.nn.ConvTranspose2d(channels[i], channels[i + 1], 2, 2)\n",
    "                for i in range(len(channels) - 1)\n",
    "            ]\n",
    "        )\n",
    "        self.dec_blocks = torch.nn.ModuleList(\n",
    "            [Block(channels[i], channels[i + 1]) for i in range(len(channels) - 1)]\n",
    "        )\n",
    "        \n",
    "    def forward(self, enc_output):\n",
    "        x = enc_output[-1]\n",
    "        for enc, dec, up in zip(enc_output[::-1][1:], self.dec_blocks, self.upconvs):\n",
    "            x_up = up(x)\n",
    "            x = dec(torch.cat([x_up, self.crop(enc, x_up)], dim=1))\n",
    "        return x\n",
    "    \n",
    "    @staticmethod\n",
    "    def crop(enc_features, x):\n",
    "        (_, _, h, w) = x.shape\n",
    "        return torchvision.transforms.CenterCrop([h, w])(enc_features)\n"
   ]
  },
  {
   "cell_type": "code",
   "execution_count": 14,
   "id": "37c39757-d70b-4c84-b34b-5d20fb94b75f",
   "metadata": {},
   "outputs": [],
   "source": [
    "class UNet(torch.nn.Module):\n",
    "    def __init__(\n",
    "        self, \n",
    "        enc_channels=(3, 16, 32, 64),\n",
    "        dec_channels=(64, 32, 16),\n",
    "        nb_classes=1, retain_dim=True,\n",
    "        out_size=(config.INPUT_IMAGE_HEIGHT,  config.INPUT_IMAGE_WIDTH)\n",
    "    ):\n",
    "        super().__init__()\n",
    "        self.encoder = Encoder(enc_channels)\n",
    "        self.decoder = Decoder(dec_channels)\n",
    "        self.head = torch.nn.Conv2d(\n",
    "            in_channels=dec_channels[-1],\n",
    "            out_channels=nb_classes,\n",
    "            kernel_size=1,\n",
    "        )\n",
    "        self.retain_dim = retain_dim\n",
    "        self.out_size = out_size\n",
    "\n",
    "    def forward(self, x):\n",
    "        enc_output = self.encoder(x)\n",
    "        dec_output = self.decoder(enc_output)\n",
    "        segm_map = self.head(dec_output)\n",
    "        if self.retain_dim:\n",
    "            segm_map = torch.nn.functional.interpolate(segm_map, self.out_size)\n",
    "        return segm_map\n",
    "    "
   ]
  },
  {
   "cell_type": "markdown",
   "id": "b40ecefe-db31-42f0-b8b8-8428767b99d4",
   "metadata": {},
   "source": [
    "# Data preparation"
   ]
  },
  {
   "cell_type": "code",
   "execution_count": 8,
   "id": "9db332be-664d-4b65-ad33-49193a5d77c4",
   "metadata": {},
   "outputs": [],
   "source": [
    "# image_paths[0]"
   ]
  },
  {
   "cell_type": "code",
   "execution_count": 9,
   "id": "065beca8-7245-4d62-b934-50ca6ee0309b",
   "metadata": {},
   "outputs": [
    {
     "name": "stdout",
     "output_type": "stream",
     "text": [
      "[INFO] saving testing image paths...\n"
     ]
    }
   ],
   "source": [
    "from sklearn.model_selection import train_test_split\n",
    "\n",
    "image_paths = sorted(list(paths.list_images(config.IMAGE_DATASET_PATH)))\n",
    "mask_paths = sorted(list(paths.list_images(config.MASK_DATASET_PATH)))\n",
    "train_images, test_images, train_masks, test_masks = train_test_split(\n",
    "    image_paths, mask_paths, test_size=config.TEST_SPLIT, random_state=1337\n",
    ")\n",
    "print(\"[INFO] saving testing image paths...\")\n",
    "with open(config.TEST_PATHS, \"w\") as fp:\n",
    "    fp.write(\"\\n\".join(test_images))\n"
   ]
  },
  {
   "cell_type": "code",
   "execution_count": 8,
   "id": "05a6dbff-c4a3-4468-b91f-197ba9a32e61",
   "metadata": {},
   "outputs": [
    {
     "name": "stdout",
     "output_type": "stream",
     "text": [
      "[INFO] found 3400 examples in the training set...\n",
      "[INFO] found 600 examples in the test set...\n"
     ]
    }
   ],
   "source": [
    "import torchvision\n",
    "\n",
    "transforms = torchvision.transforms.Compose(\n",
    "    [\n",
    "        torchvision.transforms.ToPILImage(),\n",
    "        torchvision.transforms.Resize((config.INPUT_IMAGE_HEIGHT, config.INPUT_IMAGE_WIDTH)),\n",
    "        torchvision.transforms.ToTensor()\n",
    "    ]\n",
    ")\n",
    "train_ds = Dataset(image_paths=train_images, mask_paths=train_masks, transforms=transforms)\n",
    "test_ds = Dataset(image_paths=test_images, mask_paths=test_masks, transforms=transforms)\n",
    "print(f\"[INFO] found {len(train_ds)} examples in the training set...\")\n",
    "print(f\"[INFO] found {len(test_ds)} examples in the test set...\")\n",
    "train_loader = torch.utils.data.DataLoader(\n",
    "    train_ds, \n",
    "    shuffle=True,\n",
    "    batch_size=config.BATCH_SIZE, \n",
    "    pin_memory=config.PIN_MEMORY,\n",
    "    num_workers=os.cpu_count()\n",
    ")\n",
    "test_loader = torch.utils.data.DataLoader(\n",
    "    test_ds, \n",
    "    shuffle=False,\n",
    "    batch_size=config.BATCH_SIZE, \n",
    "    pin_memory=config.PIN_MEMORY,\n",
    "    num_workers=os.cpu_count()\n",
    ")"
   ]
  },
  {
   "cell_type": "code",
   "execution_count": 10,
   "id": "03f4b54c-8831-423b-a0c8-9e466b4b47ce",
   "metadata": {},
   "outputs": [],
   "source": [
    "unet = UNet().to(config.DEVICE)\n",
    "loss_fn = torch.nn.BCEWithLogitsLoss()\n",
    "opt = torch.optim.Adam(unet.parameters(), lr=config.INIT_LR)\n",
    "train_steps = len(train_ds) // config.BATCH_SIZE\n",
    "test_steps = len(test_ds) // config.BATCH_SIZE\n",
    "H = {\"train_loss\": [], \"test_loss\": []}"
   ]
  },
  {
   "cell_type": "code",
   "execution_count": 17,
   "id": "52d0329e-97d9-470e-ac75-efc74e095a79",
   "metadata": {
    "collapsed": true,
    "jupyter": {
     "outputs_hidden": true
    },
    "tags": []
   },
   "outputs": [
    {
     "name": "stdout",
     "output_type": "stream",
     "text": [
      "[INFO] training the network...\n"
     ]
    },
    {
     "name": "stderr",
     "output_type": "stream",
     "text": [
      "  2%|█                                           | 1/40 [00:35<23:02, 35.45s/it]"
     ]
    },
    {
     "name": "stdout",
     "output_type": "stream",
     "text": [
      "[INFO] EPOCH: 1/40\n",
      "Train loss: 0.548802, Test loss: 0.5379\n"
     ]
    },
    {
     "name": "stderr",
     "output_type": "stream",
     "text": [
      "  5%|██▏                                         | 2/40 [01:12<23:12, 36.64s/it]"
     ]
    },
    {
     "name": "stdout",
     "output_type": "stream",
     "text": [
      "[INFO] EPOCH: 2/40\n",
      "Train loss: 0.563251, Test loss: 0.6037\n"
     ]
    },
    {
     "name": "stderr",
     "output_type": "stream",
     "text": [
      "  8%|███▎                                        | 3/40 [01:48<22:22, 36.28s/it]"
     ]
    },
    {
     "name": "stdout",
     "output_type": "stream",
     "text": [
      "[INFO] EPOCH: 3/40\n",
      "Train loss: 0.544722, Test loss: 0.5521\n"
     ]
    },
    {
     "name": "stderr",
     "output_type": "stream",
     "text": [
      " 10%|████▍                                       | 4/40 [02:27<22:14, 37.06s/it]"
     ]
    },
    {
     "name": "stdout",
     "output_type": "stream",
     "text": [
      "[INFO] EPOCH: 4/40\n",
      "Train loss: 0.501175, Test loss: 0.5104\n"
     ]
    },
    {
     "name": "stderr",
     "output_type": "stream",
     "text": [
      " 12%|█████▌                                      | 5/40 [03:05<21:53, 37.52s/it]"
     ]
    },
    {
     "name": "stdout",
     "output_type": "stream",
     "text": [
      "[INFO] EPOCH: 5/40\n",
      "Train loss: 0.479453, Test loss: 0.4747\n"
     ]
    },
    {
     "name": "stderr",
     "output_type": "stream",
     "text": [
      " 15%|██████▌                                     | 6/40 [03:42<21:09, 37.34s/it]"
     ]
    },
    {
     "name": "stdout",
     "output_type": "stream",
     "text": [
      "[INFO] EPOCH: 6/40\n",
      "Train loss: 0.447504, Test loss: 0.4173\n"
     ]
    },
    {
     "name": "stderr",
     "output_type": "stream",
     "text": [
      " 18%|███████▋                                    | 7/40 [04:19<20:31, 37.31s/it]"
     ]
    },
    {
     "name": "stdout",
     "output_type": "stream",
     "text": [
      "[INFO] EPOCH: 7/40\n",
      "Train loss: 0.449059, Test loss: 0.4728\n"
     ]
    },
    {
     "name": "stderr",
     "output_type": "stream",
     "text": [
      " 20%|████████▊                                   | 8/40 [04:56<19:46, 37.07s/it]"
     ]
    },
    {
     "name": "stdout",
     "output_type": "stream",
     "text": [
      "[INFO] EPOCH: 8/40\n",
      "Train loss: 0.418418, Test loss: 0.4010\n"
     ]
    },
    {
     "name": "stderr",
     "output_type": "stream",
     "text": [
      " 22%|█████████▉                                  | 9/40 [05:29<18:30, 35.81s/it]"
     ]
    },
    {
     "name": "stdout",
     "output_type": "stream",
     "text": [
      "[INFO] EPOCH: 9/40\n",
      "Train loss: 0.399978, Test loss: 0.4259\n"
     ]
    },
    {
     "name": "stderr",
     "output_type": "stream",
     "text": [
      " 25%|██████████▊                                | 10/40 [06:07<18:18, 36.62s/it]"
     ]
    },
    {
     "name": "stdout",
     "output_type": "stream",
     "text": [
      "[INFO] EPOCH: 10/40\n",
      "Train loss: 0.391430, Test loss: 0.3843\n"
     ]
    },
    {
     "name": "stderr",
     "output_type": "stream",
     "text": [
      " 28%|███████████▊                               | 11/40 [06:45<17:48, 36.85s/it]"
     ]
    },
    {
     "name": "stdout",
     "output_type": "stream",
     "text": [
      "[INFO] EPOCH: 11/40\n",
      "Train loss: 0.385200, Test loss: 0.3672\n"
     ]
    },
    {
     "name": "stderr",
     "output_type": "stream",
     "text": [
      " 30%|████████████▉                              | 12/40 [07:23<17:23, 37.27s/it]"
     ]
    },
    {
     "name": "stdout",
     "output_type": "stream",
     "text": [
      "[INFO] EPOCH: 12/40\n",
      "Train loss: 0.378320, Test loss: 0.3723\n"
     ]
    },
    {
     "name": "stderr",
     "output_type": "stream",
     "text": [
      " 32%|█████████████▉                             | 13/40 [08:00<16:43, 37.18s/it]"
     ]
    },
    {
     "name": "stdout",
     "output_type": "stream",
     "text": [
      "[INFO] EPOCH: 13/40\n",
      "Train loss: 0.366386, Test loss: 0.3588\n"
     ]
    },
    {
     "name": "stderr",
     "output_type": "stream",
     "text": [
      " 35%|███████████████                            | 14/40 [08:36<15:56, 36.78s/it]"
     ]
    },
    {
     "name": "stdout",
     "output_type": "stream",
     "text": [
      "[INFO] EPOCH: 14/40\n",
      "Train loss: 0.372013, Test loss: 0.3597\n"
     ]
    },
    {
     "name": "stderr",
     "output_type": "stream",
     "text": [
      " 38%|████████████████▏                          | 15/40 [09:14<15:34, 37.37s/it]"
     ]
    },
    {
     "name": "stdout",
     "output_type": "stream",
     "text": [
      "[INFO] EPOCH: 15/40\n",
      "Train loss: 0.366995, Test loss: 0.3432\n"
     ]
    },
    {
     "name": "stderr",
     "output_type": "stream",
     "text": [
      " 40%|█████████████████▏                         | 16/40 [09:49<14:38, 36.59s/it]"
     ]
    },
    {
     "name": "stdout",
     "output_type": "stream",
     "text": [
      "[INFO] EPOCH: 16/40\n",
      "Train loss: 0.352385, Test loss: 0.3487\n"
     ]
    },
    {
     "name": "stderr",
     "output_type": "stream",
     "text": [
      " 42%|██████████████████▎                        | 17/40 [10:26<14:06, 36.81s/it]"
     ]
    },
    {
     "name": "stdout",
     "output_type": "stream",
     "text": [
      "[INFO] EPOCH: 17/40\n",
      "Train loss: 0.362817, Test loss: 0.3583\n"
     ]
    },
    {
     "name": "stderr",
     "output_type": "stream",
     "text": [
      " 45%|███████████████████▎                       | 18/40 [11:04<13:35, 37.06s/it]"
     ]
    },
    {
     "name": "stdout",
     "output_type": "stream",
     "text": [
      "[INFO] EPOCH: 18/40\n",
      "Train loss: 0.346585, Test loss: 0.3549\n"
     ]
    },
    {
     "name": "stderr",
     "output_type": "stream",
     "text": [
      " 48%|████████████████████▍                      | 19/40 [11:42<13:02, 37.24s/it]"
     ]
    },
    {
     "name": "stdout",
     "output_type": "stream",
     "text": [
      "[INFO] EPOCH: 19/40\n",
      "Train loss: 0.354373, Test loss: 0.3544\n"
     ]
    },
    {
     "name": "stderr",
     "output_type": "stream",
     "text": [
      " 50%|█████████████████████▌                     | 20/40 [12:18<12:20, 37.00s/it]"
     ]
    },
    {
     "name": "stdout",
     "output_type": "stream",
     "text": [
      "[INFO] EPOCH: 20/40\n",
      "Train loss: 0.338445, Test loss: 0.3348\n"
     ]
    },
    {
     "name": "stderr",
     "output_type": "stream",
     "text": [
      " 52%|██████████████████████▌                    | 21/40 [12:55<11:40, 36.85s/it]"
     ]
    },
    {
     "name": "stdout",
     "output_type": "stream",
     "text": [
      "[INFO] EPOCH: 21/40\n",
      "Train loss: 0.343269, Test loss: 0.3338\n"
     ]
    },
    {
     "name": "stderr",
     "output_type": "stream",
     "text": [
      " 55%|███████████████████████▋                   | 22/40 [13:33<11:09, 37.20s/it]"
     ]
    },
    {
     "name": "stdout",
     "output_type": "stream",
     "text": [
      "[INFO] EPOCH: 22/40\n",
      "Train loss: 0.340373, Test loss: 0.3701\n"
     ]
    },
    {
     "name": "stderr",
     "output_type": "stream",
     "text": [
      " 57%|████████████████████████▋                  | 23/40 [14:11<10:36, 37.45s/it]"
     ]
    },
    {
     "name": "stdout",
     "output_type": "stream",
     "text": [
      "[INFO] EPOCH: 23/40\n",
      "Train loss: 0.342626, Test loss: 0.3259\n"
     ]
    },
    {
     "name": "stderr",
     "output_type": "stream",
     "text": [
      " 60%|█████████████████████████▊                 | 24/40 [14:49<10:02, 37.68s/it]"
     ]
    },
    {
     "name": "stdout",
     "output_type": "stream",
     "text": [
      "[INFO] EPOCH: 24/40\n",
      "Train loss: 0.342659, Test loss: 0.3274\n"
     ]
    },
    {
     "name": "stderr",
     "output_type": "stream",
     "text": [
      " 62%|██████████████████████████▉                | 25/40 [15:28<09:30, 38.03s/it]"
     ]
    },
    {
     "name": "stdout",
     "output_type": "stream",
     "text": [
      "[INFO] EPOCH: 25/40\n",
      "Train loss: 0.328600, Test loss: 0.3328\n"
     ]
    },
    {
     "name": "stderr",
     "output_type": "stream",
     "text": [
      " 65%|███████████████████████████▉               | 26/40 [16:05<08:49, 37.82s/it]"
     ]
    },
    {
     "name": "stdout",
     "output_type": "stream",
     "text": [
      "[INFO] EPOCH: 26/40\n",
      "Train loss: 0.326265, Test loss: 0.3199\n"
     ]
    },
    {
     "name": "stderr",
     "output_type": "stream",
     "text": [
      " 68%|█████████████████████████████              | 27/40 [16:41<08:04, 37.29s/it]"
     ]
    },
    {
     "name": "stdout",
     "output_type": "stream",
     "text": [
      "[INFO] EPOCH: 27/40\n",
      "Train loss: 0.327705, Test loss: 0.3365\n"
     ]
    },
    {
     "name": "stderr",
     "output_type": "stream",
     "text": [
      " 70%|██████████████████████████████             | 28/40 [17:18<07:26, 37.23s/it]"
     ]
    },
    {
     "name": "stdout",
     "output_type": "stream",
     "text": [
      "[INFO] EPOCH: 28/40\n",
      "Train loss: 0.336390, Test loss: 0.3282\n"
     ]
    },
    {
     "name": "stderr",
     "output_type": "stream",
     "text": [
      " 72%|███████████████████████████████▏           | 29/40 [17:52<06:39, 36.28s/it]"
     ]
    },
    {
     "name": "stdout",
     "output_type": "stream",
     "text": [
      "[INFO] EPOCH: 29/40\n",
      "Train loss: 0.322900, Test loss: 0.3160\n"
     ]
    },
    {
     "name": "stderr",
     "output_type": "stream",
     "text": [
      " 75%|████████████████████████████████▎          | 30/40 [18:28<05:59, 35.99s/it]"
     ]
    },
    {
     "name": "stdout",
     "output_type": "stream",
     "text": [
      "[INFO] EPOCH: 30/40\n",
      "Train loss: 0.327867, Test loss: 0.3168\n"
     ]
    },
    {
     "name": "stderr",
     "output_type": "stream",
     "text": [
      " 78%|█████████████████████████████████▎         | 31/40 [19:06<05:30, 36.73s/it]"
     ]
    },
    {
     "name": "stdout",
     "output_type": "stream",
     "text": [
      "[INFO] EPOCH: 31/40\n",
      "Train loss: 0.318005, Test loss: 0.3209\n"
     ]
    },
    {
     "name": "stderr",
     "output_type": "stream",
     "text": [
      " 80%|██████████████████████████████████▍        | 32/40 [19:42<04:50, 36.35s/it]"
     ]
    },
    {
     "name": "stdout",
     "output_type": "stream",
     "text": [
      "[INFO] EPOCH: 32/40\n",
      "Train loss: 0.322391, Test loss: 0.3101\n"
     ]
    },
    {
     "name": "stderr",
     "output_type": "stream",
     "text": [
      " 82%|███████████████████████████████████▍       | 33/40 [20:19<04:16, 36.64s/it]"
     ]
    },
    {
     "name": "stdout",
     "output_type": "stream",
     "text": [
      "[INFO] EPOCH: 33/40\n",
      "Train loss: 0.310374, Test loss: 0.3004\n"
     ]
    },
    {
     "name": "stderr",
     "output_type": "stream",
     "text": [
      " 85%|████████████████████████████████████▌      | 34/40 [20:53<03:36, 36.01s/it]"
     ]
    },
    {
     "name": "stdout",
     "output_type": "stream",
     "text": [
      "[INFO] EPOCH: 34/40\n",
      "Train loss: 0.313127, Test loss: 0.3124\n"
     ]
    },
    {
     "name": "stderr",
     "output_type": "stream",
     "text": [
      " 88%|█████████████████████████████████████▋     | 35/40 [21:28<02:58, 35.67s/it]"
     ]
    },
    {
     "name": "stdout",
     "output_type": "stream",
     "text": [
      "[INFO] EPOCH: 35/40\n",
      "Train loss: 0.304381, Test loss: 0.3143\n"
     ]
    },
    {
     "name": "stderr",
     "output_type": "stream",
     "text": [
      " 90%|██████████████████████████████████████▋    | 36/40 [22:06<02:24, 36.23s/it]"
     ]
    },
    {
     "name": "stdout",
     "output_type": "stream",
     "text": [
      "[INFO] EPOCH: 36/40\n",
      "Train loss: 0.309130, Test loss: 0.3093\n"
     ]
    },
    {
     "name": "stderr",
     "output_type": "stream",
     "text": [
      " 92%|███████████████████████████████████████▊   | 37/40 [22:42<01:48, 36.18s/it]"
     ]
    },
    {
     "name": "stdout",
     "output_type": "stream",
     "text": [
      "[INFO] EPOCH: 37/40\n",
      "Train loss: 0.302764, Test loss: 0.3074\n"
     ]
    },
    {
     "name": "stderr",
     "output_type": "stream",
     "text": [
      " 95%|████████████████████████████████████████▊  | 38/40 [23:18<01:12, 36.15s/it]"
     ]
    },
    {
     "name": "stdout",
     "output_type": "stream",
     "text": [
      "[INFO] EPOCH: 38/40\n",
      "Train loss: 0.291651, Test loss: 0.2934\n"
     ]
    },
    {
     "name": "stderr",
     "output_type": "stream",
     "text": [
      " 98%|█████████████████████████████████████████▉ | 39/40 [23:53<00:35, 35.87s/it]"
     ]
    },
    {
     "name": "stdout",
     "output_type": "stream",
     "text": [
      "[INFO] EPOCH: 39/40\n",
      "Train loss: 0.288864, Test loss: 0.2949\n"
     ]
    },
    {
     "name": "stderr",
     "output_type": "stream",
     "text": [
      "100%|███████████████████████████████████████████| 40/40 [24:32<00:00, 36.80s/it]"
     ]
    },
    {
     "name": "stdout",
     "output_type": "stream",
     "text": [
      "[INFO] EPOCH: 40/40\n",
      "Train loss: 0.282455, Test loss: 0.2832\n",
      "[INFO] total time taken to train the model: 1472.17s\n"
     ]
    },
    {
     "name": "stderr",
     "output_type": "stream",
     "text": [
      "\n"
     ]
    }
   ],
   "source": [
    "if os.path.exists(config.PATH_MODEL):\n",
    "    checkpoint = torch.load(config.PATH_MODEL)\n",
    "    unet.load_state_dict(checkpoint['model_state_dict'])\n",
    "    opt.load_state_dict(checkpoint['optimizer_state_dict'])\n",
    "    epoch = checkpoint['epoch']\n",
    "print(\"[INFO] training the network...\")\n",
    "start_time = time.time()\n",
    "for e in tqdm(range(config.NUM_EPOCHS)):\n",
    "    unet.train()\n",
    "    # initialize the total training and validation loss\n",
    "    total_train_loss = 0\n",
    "    total_test_loss = 0\n",
    "    for i, (x, y) in enumerate(train_loader):\n",
    "        x, y = x.to(config.DEVICE), y.to(config.DEVICE)\n",
    "        loss = loss_fn(unet(x), y)\n",
    "        opt.zero_grad()\n",
    "        loss.backward()\n",
    "        opt.step()\n",
    "        total_train_loss += loss\n",
    "    with torch.no_grad():\n",
    "        unet.eval()\n",
    "        for x, y in test_loader:\n",
    "            x, y = x.to(config.DEVICE), y.to(config.DEVICE)\n",
    "            total_test_loss += loss_fn(unet(x), y)\n",
    "    avg_train_loss = total_train_loss / train_steps\n",
    "    avg_test_loss = total_test_loss / test_steps\n",
    "    torch.save(\n",
    "        {\n",
    "            \"epoch\": i,\n",
    "            \"model_state_dict\": unet.state_dict(),\n",
    "            \"optimizer_state_dict\": opt.state_dict(),\n",
    "            \"avg_train_loss\": avg_train_loss,\n",
    "            \"avg_test_loss\": avg_test_loss,\n",
    "        }, \n",
    "        config.PATH_MODEL\n",
    "    )\n",
    "    H[\"train_loss\"].append(avg_train_loss.cpu().detach().numpy())\n",
    "    H[\"test_loss\"].append(avg_test_loss.cpu().detach().numpy())\n",
    "    print(f\"[INFO] EPOCH: {e + 1}/{config.NUM_EPOCHS}\")\n",
    "    print(f\"Train loss: {avg_train_loss:.6f}, Test loss: {avg_test_loss:.4f}\")\n",
    "print(f\"[INFO] total time taken to train the model: {time.time() - start_time:.2f}s\")\n"
   ]
  },
  {
   "cell_type": "code",
   "execution_count": 15,
   "id": "364a3f97-dd83-4a2d-bb66-ff441011eaf2",
   "metadata": {},
   "outputs": [],
   "source": [
    "def prepare_image(image):\n",
    "    transforms = torchvision.transforms.Compose(\n",
    "        [\n",
    "            torchvision.transforms.ToPILImage(),\n",
    "            torchvision.transforms.Resize((config.INPUT_IMAGE_HEIGHT, config.INPUT_IMAGE_WIDTH)),\n",
    "            torchvision.transforms.ToTensor()\n",
    "        ]\n",
    "    )\n",
    "    # image = cv2.imread(image_path)\n",
    "    image = cv2.cvtColor(image, cv2.COLOR_BGR2RGB) #BGR->RGB\n",
    "    if transforms is not None:\n",
    "        image = transforms(image)\n",
    "    return image\n"
   ]
  },
  {
   "cell_type": "code",
   "execution_count": 45,
   "id": "367dcd54-2d5a-4544-b7df-05b824a5bade",
   "metadata": {},
   "outputs": [],
   "source": [
    "# nparr = np.fromstring(img_str, np.uint8)\n",
    "# img_np = cv2.imdecode(nparr, cv2.CV_LOAD_IMAGE_COLOR)\n",
    "\n",
    "# img = load_image(\n",
    "#     '/home/ubuntu/tgs-salt-identification-challenge/train/images/000e218f21.png'\n",
    "# )\n"
   ]
  },
  {
   "cell_type": "code",
   "execution_count": 35,
   "id": "3677bd0c-d300-4f38-b547-68b21ad3d67c",
   "metadata": {
    "tags": []
   },
   "outputs": [],
   "source": [
    "# if os.path.exists(config.PATH_MODEL):\n",
    "#     unet = UNet().to(config.DEVICE)\n",
    "# loss_fn = torch.nn.BCEWithLogitsLoss()\n",
    "# opt = torch.optim.Adam(unet.parameters(), lr=config.INIT_LR)\n",
    "#     checkpoint = torch.load(config.PATH_MODEL)\n",
    "#     unet.load_state_dict(checkpoint['model_state_dict'])\n",
    "#     opt.load_state_dict(checkpoint['optimizer_state_dict'])\n",
    "#     return unet\n"
   ]
  },
  {
   "cell_type": "code",
   "execution_count": 17,
   "id": "d0bab26d-1b29-4b5f-94f1-944d606bcfaa",
   "metadata": {},
   "outputs": [],
   "source": [
    "def load_model(path):\n",
    "    unet = UNet().to(config.DEVICE)\n",
    "    loss_fn = torch.nn.BCEWithLogitsLoss()\n",
    "    opt = torch.optim.Adam(unet.parameters(), lr=config.INIT_LR)\n",
    "    checkpoint = torch.load(path)\n",
    "    unet.load_state_dict(checkpoint['model_state_dict'])\n",
    "    unet.eval()\n",
    "    return unet\n"
   ]
  },
  {
   "cell_type": "code",
   "execution_count": 18,
   "id": "b0c1889c-0b5d-461b-b4e4-9b6a11c850ec",
   "metadata": {},
   "outputs": [],
   "source": [
    "image_raw = cv2.imread(\n",
    "    '/home/ubuntu/tgs-salt-identification-challenge/train/images/000e218f21.png'\n",
    ")\n",
    "image = prepare_image(image_raw)\n",
    "model = load_model(config.PATH_MODEL)\n"
   ]
  },
  {
   "cell_type": "code",
   "execution_count": 20,
   "id": "f2fd13f8-dfea-46cb-a55d-c4c9a9b7e9f7",
   "metadata": {},
   "outputs": [],
   "source": [
    "pred = model(image.unsqueeze(0))"
   ]
  },
  {
   "cell_type": "code",
   "execution_count": 21,
   "id": "a359576d-be6f-40d4-9ed3-700cb01cb8f4",
   "metadata": {},
   "outputs": [],
   "source": [
    "def prepare_plot(origImage, origMask, predMask):\n",
    "    # initialize our figure\n",
    "    figure, ax = plt.subplots(nrows=1, ncols=3, figsize=(10, 10))\n",
    "    # plot the original image, its mask, and the predicted mask\n",
    "    ax[0].imshow(origImage)\n",
    "    ax[1].imshow(origMask)\n",
    "    ax[2].imshow(predMask)\n",
    "    # set the titles of the subplots\n",
    "    ax[0].set_title(\"Image\")\n",
    "    ax[1].set_title(\"Original Mask\")\n",
    "    ax[2].set_title(\"Predicted Mask\")\n",
    "    # set the layout of the figure and display it\n",
    "    figure.tight_layout()\n",
    "    figure.show()\n",
    "\n",
    "def make_predictions(model, imagePath):\n",
    "    # set model to evaluation mode\n",
    "    model.eval()\n",
    "    # turn off gradient tracking\n",
    "    with torch.no_grad():\n",
    "        # load the image from disk, swap its color channels, cast it\n",
    "        # to float data type, and scale its pixel values\n",
    "        image = cv2.imread(imagePath)\n",
    "        image = cv2.cvtColor(image, cv2.COLOR_BGR2RGB)\n",
    "        image = image.astype(\"float32\") / 255.0\n",
    "        # resize the image and make a copy of it for visualization\n",
    "        image = cv2.resize(image, (128, 128))\n",
    "        orig = image.copy()\n",
    "        # find the filename and generate the path to ground truth\n",
    "        # mask\n",
    "        filename = imagePath.split(os.path.sep)[-1]\n",
    "        groundTruthPath = os.path.join(config.MASK_DATASET_PATH,\n",
    "            filename)\n",
    "        # load the ground-truth segmentation mask in grayscale mode\n",
    "        # and resize it\n",
    "        gtMask = cv2.imread(groundTruthPath, 0)\n",
    "        gtMask = cv2.resize(gtMask, (config.INPUT_IMAGE_HEIGHT,\n",
    "            config.INPUT_IMAGE_HEIGHT))\n",
    "        # make the channel axis to be the leading one, add a batch\n",
    "        # dimension, create a PyTorch tensor, and flash it to the\n",
    "        # current device\n",
    "        image = np.transpose(image, (2, 0, 1))\n",
    "        image = np.expand_dims(image, 0)\n",
    "        image = torch.from_numpy(image).to(config.DEVICE)\n",
    "        # make the prediction, pass the results through the sigmoid\n",
    "        # function, and convert the result to a NumPy array\n",
    "        predMask = model(image).squeeze()\n",
    "        predMask = torch.sigmoid(predMask)\n",
    "        predMask = predMask.cpu().numpy()\n",
    "        # filter out the weak predictions and convert them to integers\n",
    "        predMask = (predMask > config.THRESHOLD) * 255\n",
    "        predMask = predMask.astype(np.uint8)\n",
    "        # prepare a plot for visualization\n",
    "        prepare_plot(orig, gtMask, predMask)"
   ]
  },
  {
   "cell_type": "code",
   "execution_count": 22,
   "id": "2a9978b3-969b-4d10-bb40-a9c77612a6d9",
   "metadata": {},
   "outputs": [
    {
     "data": {
      "image/png": "[encoded data removed]",
      "text/plain": [
       "<Figure size 720x720 with 3 Axes>"
      ]
     },
     "metadata": {
      "needs_background": "light"
     },
     "output_type": "display_data"
    }
   ],
   "source": [
    "make_predictions(model, image_paths[5])"
   ]
  },
  {
   "cell_type": "code",
   "execution_count": 23,
   "id": "01b837c0-f65e-40a8-a3fc-8608a8a7b517",
   "metadata": {},
   "outputs": [],
   "source": [
    "def make_predictions(model, imagePath):\n",
    "    # set model to evaluation mode\n",
    "    model.eval()\n",
    "    # turn off gradient tracking\n",
    "    with torch.no_grad():\n",
    "        image = cv2.imread(imagePath)\n",
    "        image = cv2.cvtColor(image, cv2.COLOR_BGR2RGB)\n",
    "        orig = image.copy()\n",
    "        image = image.astype(\"float32\") / 255.0\n",
    "        image = cv2.resize(image, (128, 128))\n",
    "        # orig = image.copy()\n",
    "        image = np.transpose(image, (2, 0, 1))\n",
    "        image = np.expand_dims(image, 0)\n",
    "        image = torch.from_numpy(image).to(config.DEVICE)\n",
    "        # make the prediction, pass the results through the sigmoid\n",
    "        # function, and convert the result to a NumPy array\n",
    "        predMask = model(image).squeeze()\n",
    "        predMask = torch.sigmoid(predMask)\n",
    "        predMask = predMask.cpu()#.numpy()\n",
    "        # filter out the weak predictions and convert them to integers\n",
    "        predMask = (predMask > config.THRESHOLD) * 255\n",
    "        predMask = predMask.to(torch.bool)#astype(np.uint8)\n",
    "        # prepare a plot for visualization\n",
    "        # prepare_plot(orig, gtMask, predMask)\n",
    "        # img_mask = draw_segmentation_masks(\n",
    "        #     image=image.to(torch.uint8).squeeze(),\n",
    "        #     masks=predMask.squeeze(),\n",
    "        #     alpha=0.5\n",
    "        # )\n",
    "        # return img_mask\n",
    "        return orig, image,  predMask\n"
   ]
  },
  {
   "cell_type": "code",
   "execution_count": 24,
   "id": "5e014d4b-567e-4456-844b-a8dbe0ba97d9",
   "metadata": {},
   "outputs": [],
   "source": [
    "# res = make_predictions(model, image_paths[5])\n",
    "# cv2.imwrite(filename=\"res.png\", img=res.permute(1,2,0).numpy())\n",
    "# (torch.from_numpy(img_orig).to(config.DEVICE) * 255).to(torch.uint8)\n",
    "# torch.from_numpy(img_orig)"
   ]
  },
  {
   "cell_type": "code",
   "execution_count": 26,
   "id": "8402ef38-19ae-4b57-86dd-3c7c28b9a242",
   "metadata": {},
   "outputs": [],
   "source": [
    "# cv2.resize(img_orig, (128, 128)).transpose(2, 0, 1).shape"
   ]
  },
  {
   "cell_type": "code",
   "execution_count": 27,
   "id": "f1cf88cd-2928-4be7-aa4f-8f8ff130e794",
   "metadata": {},
   "outputs": [],
   "source": [
    "# cv2.resize(img_orig, (128, 128))#convert?#(\"RGB\")"
   ]
  },
  {
   "cell_type": "code",
   "execution_count": 43,
   "id": "734a27a5-6278-4daf-9345-d6409679ed10",
   "metadata": {},
   "outputs": [],
   "source": [
    "import cv2\n",
    "import torch\n",
    "from torchvision.utils import draw_bounding_boxes, draw_segmentation_masks\n",
    "from torchvision.transforms.functional import to_tensor\n",
    "from matplotlib import pyplot as plt\n",
    "from copy import deepcopy\n",
    "\n",
    "\n",
    "class Visualizer:\n",
    "    @staticmethod\n",
    "    def add_boxes(img, boxes):        \n",
    "        img_bbox = draw_bounding_boxes(\n",
    "            image=img,\n",
    "            boxes=boxes\n",
    "        )\n",
    "        return img_bbox\n",
    "\n",
    "    @staticmethod\n",
    "    def add_masks(img, masks):\n",
    "        img_mask = draw_segmentation_masks(\n",
    "            image=img,\n",
    "            masks=masks,\n",
    "            alpha=0.9,\n",
    "            colors=\"yellow\"\n",
    "        )\n",
    "        return img_mask\n",
    "\n",
    "    @classmethod\n",
    "    def save(cls, img, filepath, boxes=None, masks=None):\n",
    "        img = (deepcopy(img) * 255).to(torch.uint8)\n",
    "        if boxes is not None: img = cls.add_boxes(img, boxes)\n",
    "        if masks is not None: img = cls.add_masks(img, masks)\n",
    "        img_save = cv2.cvtColor(\n",
    "            img.permute(1,2,0).numpy(),\n",
    "            cv2.COLOR_RGB2BGR\n",
    "        )\n",
    "        cv2.imwrite(filename=filepath, img=img_save)\n",
    "\n",
    "    @classmethod\n",
    "    def show(cls, img, boxes=None, masks=None):\n",
    "        img = (deepcopy(img) * 255).to(torch.uint8)\n",
    "        if boxes is not None: img = cls.add_boxes(img, boxes)\n",
    "        if masks is not None: img = cls.add_masks(img, masks)\n",
    "        plt.figure(figsize = (10,10))\n",
    "        plt.imshow(img.permute(1,2,0))\n",
    "\n",
    "\n"
   ]
  },
  {
   "cell_type": "code",
   "execution_count": 44,
   "id": "5fe72f6a-3ac0-4e98-bb13-10cce3873187",
   "metadata": {
    "tags": []
   },
   "outputs": [],
   "source": [
    "img_orig, img_res, mask = make_predictions(model, image_paths[5])\n",
    "# Visualizer.show(\n",
    "#     img=torch.from_numpy(cv2.resize(img_orig, (128, 128)).transpose(2, 0, 1)), \n",
    "#     masks=mask#.to(torch.uint8)\n",
    "# )\n",
    "Visualizer.save(\n",
    "    filepath=\"result.png\",\n",
    "    img=torch.from_numpy(cv2.resize(img_orig, (128, 128)).transpose(2, 0, 1)), \n",
    "    masks=mask#.to(torch.uint8)\n",
    ")"
   ]
  },
  {
   "cell_type": "code",
   "execution_count": 46,
   "id": "6d15e9bd-549d-48b8-a013-48e3bd30c789",
   "metadata": {},
   "outputs": [
    {
     "data": {
      "text/plain": [
       "'/home/ubuntu/tgs-salt-identification-challenge/train/images/0061281eea.png'"
      ]
     },
     "execution_count": 46,
     "metadata": {},
     "output_type": "execute_result"
    }
   ],
   "source": [
    "image_paths[5]"
   ]
  },
  {
   "cell_type": "code",
   "execution_count": null,
   "id": "5ae513c8-03da-4db2-9031-e53115862b01",
   "metadata": {},
   "outputs": [],
   "source": []
  },
  {
   "cell_type": "code",
   "execution_count": null,
   "id": "99148dbb-abdd-4f6a-a414-4cc402f0b7a5",
   "metadata": {},
   "outputs": [],
   "source": []
  },
  {
   "cell_type": "code",
   "execution_count": null,
   "id": "c28e6363-e7b7-4482-9ad8-31bd50ad2b95",
   "metadata": {},
   "outputs": [],
   "source": [
    "img = (deepcopy(img) * 255).to(torch.uint8)\n",
    "if boxes is not None: img = cls.add_boxes(img, boxes)\n",
    "if masks is not None: img = cls.add_masks(img, masks)\n",
    "plt.figure(figsize = (10,10))\n",
    "plt.imshow(img.permute(1,2,0))"
   ]
  }
 ],
 "metadata": {
  "kernelspec": {
   "display_name": "Python 3 (ipykernel)",
   "language": "python",
   "name": "python3"
  },
  "language_info": {
   "codemirror_mode": {
    "name": "ipython",
    "version": 3
   },
   "file_extension": ".py",
   "mimetype": "text/x-python",
   "name": "python",
   "nbconvert_exporter": "python",
   "pygments_lexer": "ipython3",
   "version": "3.8.10"
  }
 },
 "nbformat": 4,
 "nbformat_minor": 5
}
